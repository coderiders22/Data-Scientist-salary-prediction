{
 "cells": [
  {
   "cell_type": "markdown",
   "metadata": {
    "papermill": {
     "duration": 0.066641,
     "end_time": "2020-10-09T13:41:25.461220",
     "exception": false,
     "start_time": "2020-10-09T13:41:25.394579",
     "status": "completed"
    },
    "tags": []
   },
   "source": [
    "**PREDICTING SALARIES OF DATA SCIENTISTS**\n",
    "* Data scientist is the sexiest job in the world. How many times have you heard that? Analytics India Annual Salary Study which aims to understand a wide range of trends data science says that the median analytics salary in India for the year 2017 is INR 12.7 Lakhs across all experience level and skill sets. So given the job description and other key information can you predict the range of salary of the job posting? What kind of factors influence the salary of a data scientist? The study also says that in the world of analytics, Mumbai is the highest paymaster at almost 13.3 Lakhs per annum, followed by Bengaluru at 12.5 Lakhs. The industry of the data scientist can also influence the salary. Telecom industry pays the highest median salaries to its analytics professionals at 18.6 Lakhs. What are you waiting for, solve the problem by predicting how much a data scientist or analytics professional will be paid by analysing the data given. Bonus Tip: You can analyse the data and get key insights for your career as well. The best data scientists and machine learning engineers will be given awesome prizes at the end of hackathon. Share this hackathon with a colleague who may be interested in mining the dataset for insights and make great predictions. Data The dataset is based on salary and job postings in India across the internet. The train and the test data consists of attributes mentioned below. The rows of train dataset has rich amount of information regarding the job posting such as name of the designation and key skills required for the job. The training data and test data comprise of 19802 samples and of 6601 samples each. This is a dataset which has been collected over some time to gather relevant analytics jobs posting over the years. Features Name of the company (Encoded) Years of experience Job description Job designation Job Type Key skills Location Salary in Rupees Lakhs(To be predicted) Problem Statement Based on the given attributes and salary information, build a robust machine learning model that predicts the salary range of the salary post.\n"
   ]
  },
  {
   "cell_type": "code",
   "execution_count": 1,
   "metadata": {
    "execution": {
     "iopub.execute_input": "2020-10-09T13:41:25.600476Z",
     "iopub.status.busy": "2020-10-09T13:41:25.599562Z",
     "iopub.status.idle": "2020-10-09T13:41:25.616790Z",
     "shell.execute_reply": "2020-10-09T13:41:25.617407Z"
    },
    "papermill": {
     "duration": 0.088535,
     "end_time": "2020-10-09T13:41:25.617610",
     "exception": false,
     "start_time": "2020-10-09T13:41:25.529075",
     "status": "completed"
    },
    "tags": []
   },
   "outputs": [
    {
     "name": "stdout",
     "output_type": "stream",
     "text": [
      "/kaggle/input/glove-global-vectors-for-word-representation/glove.6B.100d.txt\n",
      "/kaggle/input/glove-global-vectors-for-word-representation/glove.6B.200d.txt\n",
      "/kaggle/input/glove-global-vectors-for-word-representation/glove.6B.50d.txt\n",
      "/kaggle/input/data-scientist-salary/train.csv\n",
      "/kaggle/input/data-scientist-salary/sample_submission.xlsx\n",
      "/kaggle/input/data-scientist-salary/test.csv\n"
     ]
    }
   ],
   "source": [
    "# This Python 3 environment comes with many helpful analytics libraries installed\n",
    "# It is defined by the kaggle/python Docker image: https://github.com/kaggle/docker-python\n",
    "# For example, here's several helpful packages to load\n",
    "\n",
    "import numpy as np # linear algebra\n",
    "import pandas as pd # data processing, CSV file I/O (e.g. pd.read_csv)\n",
    "\n",
    "# Input data files are available in the read-only \"../input/\" directory\n",
    "# For example, running this (by clicking run or pressing Shift+Enter) will list all files under the input directory\n",
    "\n",
    "import os\n",
    "for dirname, _, filenames in os.walk('/kaggle/input'):\n",
    "    for filename in filenames:\n",
    "        print(os.path.join(dirname, filename))\n",
    "\n",
    "# You can write up to 5GB to the current directory (/kaggle/working/) that gets preserved as output when you create a version using \"Save & Run All\" \n",
    "# You can also write temporary files to /kaggle/temp/, but they won't be saved outside of the current session"
   ]
  },
  {
   "cell_type": "code",
   "execution_count": 2,
   "metadata": {
    "execution": {
     "iopub.execute_input": "2020-10-09T13:41:25.753017Z",
     "iopub.status.busy": "2020-10-09T13:41:25.752258Z",
     "iopub.status.idle": "2020-10-09T13:41:25.755765Z",
     "shell.execute_reply": "2020-10-09T13:41:25.755008Z"
    },
    "papermill": {
     "duration": 0.071199,
     "end_time": "2020-10-09T13:41:25.755896",
     "exception": false,
     "start_time": "2020-10-09T13:41:25.684697",
     "status": "completed"
    },
    "tags": []
   },
   "outputs": [],
   "source": [
    "# import tensorflow as tf\n",
    "# p = tf.config.experimental.list_physical_devices('GPU')\n",
    "# tf.config.experimental.set_visible_devices(p[0], 'GPU')"
   ]
  },
  {
   "cell_type": "markdown",
   "metadata": {
    "papermill": {
     "duration": 0.067708,
     "end_time": "2020-10-09T13:41:25.887938",
     "exception": false,
     "start_time": "2020-10-09T13:41:25.820230",
     "status": "completed"
    },
    "tags": []
   },
   "source": [
    "# EDA AND FEATURE ENGINEERING"
   ]
  },
  {
   "cell_type": "code",
   "execution_count": 3,
   "metadata": {
    "execution": {
     "iopub.execute_input": "2020-10-09T13:41:26.027658Z",
     "iopub.status.busy": "2020-10-09T13:41:26.026832Z",
     "iopub.status.idle": "2020-10-09T13:41:26.203615Z",
     "shell.execute_reply": "2020-10-09T13:41:26.202807Z"
    },
    "papermill": {
     "duration": 0.250679,
     "end_time": "2020-10-09T13:41:26.203744",
     "exception": false,
     "start_time": "2020-10-09T13:41:25.953065",
     "status": "completed"
    },
    "tags": []
   },
   "outputs": [],
   "source": [
    "train = pd.read_csv(\"/kaggle/input/data-scientist-salary/train.csv\")\n",
    "test = pd.read_csv(\"/kaggle/input/data-scientist-salary/test.csv\")"
   ]
  },
  {
   "cell_type": "code",
   "execution_count": 4,
   "metadata": {
    "execution": {
     "iopub.execute_input": "2020-10-09T13:41:26.343667Z",
     "iopub.status.busy": "2020-10-09T13:41:26.337697Z",
     "iopub.status.idle": "2020-10-09T13:41:26.369483Z",
     "shell.execute_reply": "2020-10-09T13:41:26.368676Z"
    },
    "papermill": {
     "duration": 0.100411,
     "end_time": "2020-10-09T13:41:26.369613",
     "exception": false,
     "start_time": "2020-10-09T13:41:26.269202",
     "status": "completed"
    },
    "tags": []
   },
   "outputs": [
    {
     "data": {
      "text/html": [
       "<div>\n",
       "<style scoped>\n",
       "    .dataframe tbody tr th:only-of-type {\n",
       "        vertical-align: middle;\n",
       "    }\n",
       "\n",
       "    .dataframe tbody tr th {\n",
       "        vertical-align: top;\n",
       "    }\n",
       "\n",
       "    .dataframe thead th {\n",
       "        text-align: right;\n",
       "    }\n",
       "</style>\n",
       "<table border=\"1\" class=\"dataframe\">\n",
       "  <thead>\n",
       "    <tr style=\"text-align: right;\">\n",
       "      <th></th>\n",
       "      <th>Unnamed: 0</th>\n",
       "      <th>experience</th>\n",
       "      <th>job_description</th>\n",
       "      <th>job_desig</th>\n",
       "      <th>job_type</th>\n",
       "      <th>key_skills</th>\n",
       "      <th>location</th>\n",
       "      <th>salary</th>\n",
       "      <th>company_name_encoded</th>\n",
       "    </tr>\n",
       "  </thead>\n",
       "  <tbody>\n",
       "    <tr>\n",
       "      <th>0</th>\n",
       "      <td>0</td>\n",
       "      <td>5-7 yrs</td>\n",
       "      <td>Exp: Minimum 5 years;Good understanding of IOC...</td>\n",
       "      <td>Senior Exploit and Vulnerability Researcher</td>\n",
       "      <td>NaN</td>\n",
       "      <td>team skills, communication skills, analytical ...</td>\n",
       "      <td>Delhi NCR(Vikas Puri)</td>\n",
       "      <td>6to10</td>\n",
       "      <td>3687</td>\n",
       "    </tr>\n",
       "    <tr>\n",
       "      <th>1</th>\n",
       "      <td>1</td>\n",
       "      <td>10-17 yrs</td>\n",
       "      <td>He should have handled a team of atleast 5-6 d...</td>\n",
       "      <td>Head SCM</td>\n",
       "      <td>NaN</td>\n",
       "      <td>ppc, logistics, inventory management, supply c...</td>\n",
       "      <td>Sonepat</td>\n",
       "      <td>10to15</td>\n",
       "      <td>458</td>\n",
       "    </tr>\n",
       "    <tr>\n",
       "      <th>2</th>\n",
       "      <td>2</td>\n",
       "      <td>5-9 yrs</td>\n",
       "      <td>Must be an effective communicator (written &amp; s...</td>\n",
       "      <td>Deputy Manager - Talent Management &amp; Leadershi...</td>\n",
       "      <td>Analytics</td>\n",
       "      <td>HR Analytics, Employee Engagement, Training, S...</td>\n",
       "      <td>Delhi NCR</td>\n",
       "      <td>15to25</td>\n",
       "      <td>4195</td>\n",
       "    </tr>\n",
       "    <tr>\n",
       "      <th>3</th>\n",
       "      <td>3</td>\n",
       "      <td>7-10 yrs</td>\n",
       "      <td>7  -  10 years of overall experience in data e...</td>\n",
       "      <td>Associate Manager Data Engineering</td>\n",
       "      <td>Analytics</td>\n",
       "      <td>SQL, Javascript, Automation, Python, Ruby, Ana...</td>\n",
       "      <td>Bengaluru</td>\n",
       "      <td>10to15</td>\n",
       "      <td>313</td>\n",
       "    </tr>\n",
       "    <tr>\n",
       "      <th>4</th>\n",
       "      <td>4</td>\n",
       "      <td>1-3 yrs</td>\n",
       "      <td>Chartered Accountancy degree or MBA in Finance...</td>\n",
       "      <td>TS- GSA- Senior Analyst</td>\n",
       "      <td>NaN</td>\n",
       "      <td>accounting, finance, cash flow, financial plan...</td>\n",
       "      <td>Gurgaon</td>\n",
       "      <td>3to6</td>\n",
       "      <td>1305</td>\n",
       "    </tr>\n",
       "  </tbody>\n",
       "</table>\n",
       "</div>"
      ],
      "text/plain": [
       "   Unnamed: 0 experience                                    job_description  \\\n",
       "0           0    5-7 yrs  Exp: Minimum 5 years;Good understanding of IOC...   \n",
       "1           1  10-17 yrs  He should have handled a team of atleast 5-6 d...   \n",
       "2           2    5-9 yrs  Must be an effective communicator (written & s...   \n",
       "3           3   7-10 yrs  7  -  10 years of overall experience in data e...   \n",
       "4           4    1-3 yrs  Chartered Accountancy degree or MBA in Finance...   \n",
       "\n",
       "                                           job_desig   job_type  \\\n",
       "0        Senior Exploit and Vulnerability Researcher        NaN   \n",
       "1                                           Head SCM        NaN   \n",
       "2  Deputy Manager - Talent Management & Leadershi...  Analytics   \n",
       "3                 Associate Manager Data Engineering  Analytics   \n",
       "4                            TS- GSA- Senior Analyst        NaN   \n",
       "\n",
       "                                          key_skills               location  \\\n",
       "0  team skills, communication skills, analytical ...  Delhi NCR(Vikas Puri)   \n",
       "1  ppc, logistics, inventory management, supply c...                Sonepat   \n",
       "2  HR Analytics, Employee Engagement, Training, S...              Delhi NCR   \n",
       "3  SQL, Javascript, Automation, Python, Ruby, Ana...              Bengaluru   \n",
       "4  accounting, finance, cash flow, financial plan...                Gurgaon   \n",
       "\n",
       "   salary  company_name_encoded  \n",
       "0   6to10                  3687  \n",
       "1  10to15                   458  \n",
       "2  15to25                  4195  \n",
       "3  10to15                   313  \n",
       "4    3to6                  1305  "
      ]
     },
     "execution_count": 4,
     "metadata": {},
     "output_type": "execute_result"
    }
   ],
   "source": [
    "train.head()"
   ]
  },
  {
   "cell_type": "code",
   "execution_count": 5,
   "metadata": {
    "execution": {
     "iopub.execute_input": "2020-10-09T13:41:26.514119Z",
     "iopub.status.busy": "2020-10-09T13:41:26.513042Z",
     "iopub.status.idle": "2020-10-09T13:41:26.518798Z",
     "shell.execute_reply": "2020-10-09T13:41:26.518146Z"
    },
    "papermill": {
     "duration": 0.07949,
     "end_time": "2020-10-09T13:41:26.518922",
     "exception": false,
     "start_time": "2020-10-09T13:41:26.439432",
     "status": "completed"
    },
    "tags": []
   },
   "outputs": [
    {
     "data": {
      "text/plain": [
       "((19802, 9), (6601, 7))"
      ]
     },
     "execution_count": 5,
     "metadata": {},
     "output_type": "execute_result"
    }
   ],
   "source": [
    "train.shape, test.shape"
   ]
  },
  {
   "cell_type": "code",
   "execution_count": 6,
   "metadata": {
    "execution": {
     "iopub.execute_input": "2020-10-09T13:41:26.659293Z",
     "iopub.status.busy": "2020-10-09T13:41:26.658169Z",
     "iopub.status.idle": "2020-10-09T13:41:26.699310Z",
     "shell.execute_reply": "2020-10-09T13:41:26.698655Z"
    },
    "papermill": {
     "duration": 0.114238,
     "end_time": "2020-10-09T13:41:26.699444",
     "exception": false,
     "start_time": "2020-10-09T13:41:26.585206",
     "status": "completed"
    },
    "tags": []
   },
   "outputs": [
    {
     "data": {
      "text/plain": [
       "Unnamed: 0              19802\n",
       "experience                129\n",
       "job_description          9059\n",
       "job_desig               11708\n",
       "job_type                    5\n",
       "key_skills              12951\n",
       "location                 1504\n",
       "salary                      6\n",
       "company_name_encoded     5035\n",
       "dtype: int64"
      ]
     },
     "execution_count": 6,
     "metadata": {},
     "output_type": "execute_result"
    }
   ],
   "source": [
    "train.nunique()"
   ]
  },
  {
   "cell_type": "code",
   "execution_count": 7,
   "metadata": {
    "execution": {
     "iopub.execute_input": "2020-10-09T13:41:26.852887Z",
     "iopub.status.busy": "2020-10-09T13:41:26.851012Z",
     "iopub.status.idle": "2020-10-09T13:41:26.868171Z",
     "shell.execute_reply": "2020-10-09T13:41:26.867407Z"
    },
    "papermill": {
     "duration": 0.10287,
     "end_time": "2020-10-09T13:41:26.868294",
     "exception": false,
     "start_time": "2020-10-09T13:41:26.765424",
     "status": "completed"
    },
    "tags": []
   },
   "outputs": [
    {
     "name": "stdout",
     "output_type": "stream",
     "text": [
      "<class 'pandas.core.frame.DataFrame'>\n",
      "RangeIndex: 19802 entries, 0 to 19801\n",
      "Data columns (total 9 columns):\n",
      " #   Column                Non-Null Count  Dtype \n",
      "---  ------                --------------  ----- \n",
      " 0   Unnamed: 0            19802 non-null  int64 \n",
      " 1   experience            19802 non-null  object\n",
      " 2   job_description       15384 non-null  object\n",
      " 3   job_desig             19802 non-null  object\n",
      " 4   job_type              4797 non-null   object\n",
      " 5   key_skills            19801 non-null  object\n",
      " 6   location              19802 non-null  object\n",
      " 7   salary                19802 non-null  object\n",
      " 8   company_name_encoded  19802 non-null  int64 \n",
      "dtypes: int64(2), object(7)\n",
      "memory usage: 1.4+ MB\n"
     ]
    }
   ],
   "source": [
    "train.info()"
   ]
  },
  {
   "cell_type": "markdown",
   "metadata": {
    "papermill": {
     "duration": 0.067194,
     "end_time": "2020-10-09T13:41:27.002732",
     "exception": false,
     "start_time": "2020-10-09T13:41:26.935538",
     "status": "completed"
    },
    "tags": []
   },
   "source": [
    "Number of nan values in the feature columns"
   ]
  },
  {
   "cell_type": "code",
   "execution_count": 8,
   "metadata": {
    "execution": {
     "iopub.execute_input": "2020-10-09T13:41:27.161140Z",
     "iopub.status.busy": "2020-10-09T13:41:27.160286Z",
     "iopub.status.idle": "2020-10-09T13:41:27.169522Z",
     "shell.execute_reply": "2020-10-09T13:41:27.168875Z"
    },
    "papermill": {
     "duration": 0.096944,
     "end_time": "2020-10-09T13:41:27.169650",
     "exception": false,
     "start_time": "2020-10-09T13:41:27.072706",
     "status": "completed"
    },
    "tags": []
   },
   "outputs": [
    {
     "data": {
      "text/plain": [
       "Unnamed: 0                  0\n",
       "experience                  0\n",
       "job_description          4418\n",
       "job_desig                   0\n",
       "job_type                15005\n",
       "key_skills                  1\n",
       "location                    0\n",
       "salary                      0\n",
       "company_name_encoded        0\n",
       "dtype: int64"
      ]
     },
     "execution_count": 8,
     "metadata": {},
     "output_type": "execute_result"
    }
   ],
   "source": [
    "train.isna().sum()"
   ]
  },
  {
   "cell_type": "code",
   "execution_count": 9,
   "metadata": {
    "execution": {
     "iopub.execute_input": "2020-10-09T13:41:27.317792Z",
     "iopub.status.busy": "2020-10-09T13:41:27.312126Z",
     "iopub.status.idle": "2020-10-09T13:41:27.357645Z",
     "shell.execute_reply": "2020-10-09T13:41:27.356952Z"
    },
    "papermill": {
     "duration": 0.12007,
     "end_time": "2020-10-09T13:41:27.357772",
     "exception": false,
     "start_time": "2020-10-09T13:41:27.237702",
     "status": "completed"
    },
    "tags": []
   },
   "outputs": [],
   "source": [
    "train = train.dropna(subset = [\"key_skills\"])\n",
    "df_train = train[['key_skills', 'job_desig', 'job_description', 'location', 'job_type', 'experience','salary']]\n",
    "df_test = test[['key_skills', 'job_desig', 'job_description', 'job_type', 'experience', 'location']]"
   ]
  },
  {
   "cell_type": "code",
   "execution_count": 10,
   "metadata": {
    "execution": {
     "iopub.execute_input": "2020-10-09T13:41:27.510212Z",
     "iopub.status.busy": "2020-10-09T13:41:27.508819Z",
     "iopub.status.idle": "2020-10-09T13:41:27.514130Z",
     "shell.execute_reply": "2020-10-09T13:41:27.513533Z"
    },
    "papermill": {
     "duration": 0.088836,
     "end_time": "2020-10-09T13:41:27.514267",
     "exception": false,
     "start_time": "2020-10-09T13:41:27.425431",
     "status": "completed"
    },
    "tags": []
   },
   "outputs": [
    {
     "data": {
      "text/html": [
       "<div>\n",
       "<style scoped>\n",
       "    .dataframe tbody tr th:only-of-type {\n",
       "        vertical-align: middle;\n",
       "    }\n",
       "\n",
       "    .dataframe tbody tr th {\n",
       "        vertical-align: top;\n",
       "    }\n",
       "\n",
       "    .dataframe thead th {\n",
       "        text-align: right;\n",
       "    }\n",
       "</style>\n",
       "<table border=\"1\" class=\"dataframe\">\n",
       "  <thead>\n",
       "    <tr style=\"text-align: right;\">\n",
       "      <th></th>\n",
       "      <th>key_skills</th>\n",
       "      <th>job_desig</th>\n",
       "      <th>job_description</th>\n",
       "      <th>location</th>\n",
       "      <th>job_type</th>\n",
       "      <th>experience</th>\n",
       "      <th>salary</th>\n",
       "    </tr>\n",
       "  </thead>\n",
       "  <tbody>\n",
       "    <tr>\n",
       "      <th>0</th>\n",
       "      <td>team skills, communication skills, analytical ...</td>\n",
       "      <td>Senior Exploit and Vulnerability Researcher</td>\n",
       "      <td>Exp: Minimum 5 years;Good understanding of IOC...</td>\n",
       "      <td>Delhi NCR(Vikas Puri)</td>\n",
       "      <td>NaN</td>\n",
       "      <td>5-7 yrs</td>\n",
       "      <td>6to10</td>\n",
       "    </tr>\n",
       "    <tr>\n",
       "      <th>1</th>\n",
       "      <td>ppc, logistics, inventory management, supply c...</td>\n",
       "      <td>Head SCM</td>\n",
       "      <td>He should have handled a team of atleast 5-6 d...</td>\n",
       "      <td>Sonepat</td>\n",
       "      <td>NaN</td>\n",
       "      <td>10-17 yrs</td>\n",
       "      <td>10to15</td>\n",
       "    </tr>\n",
       "    <tr>\n",
       "      <th>2</th>\n",
       "      <td>HR Analytics, Employee Engagement, Training, S...</td>\n",
       "      <td>Deputy Manager - Talent Management &amp; Leadershi...</td>\n",
       "      <td>Must be an effective communicator (written &amp; s...</td>\n",
       "      <td>Delhi NCR</td>\n",
       "      <td>Analytics</td>\n",
       "      <td>5-9 yrs</td>\n",
       "      <td>15to25</td>\n",
       "    </tr>\n",
       "    <tr>\n",
       "      <th>3</th>\n",
       "      <td>SQL, Javascript, Automation, Python, Ruby, Ana...</td>\n",
       "      <td>Associate Manager Data Engineering</td>\n",
       "      <td>7  -  10 years of overall experience in data e...</td>\n",
       "      <td>Bengaluru</td>\n",
       "      <td>Analytics</td>\n",
       "      <td>7-10 yrs</td>\n",
       "      <td>10to15</td>\n",
       "    </tr>\n",
       "    <tr>\n",
       "      <th>4</th>\n",
       "      <td>accounting, finance, cash flow, financial plan...</td>\n",
       "      <td>TS- GSA- Senior Analyst</td>\n",
       "      <td>Chartered Accountancy degree or MBA in Finance...</td>\n",
       "      <td>Gurgaon</td>\n",
       "      <td>NaN</td>\n",
       "      <td>1-3 yrs</td>\n",
       "      <td>3to6</td>\n",
       "    </tr>\n",
       "  </tbody>\n",
       "</table>\n",
       "</div>"
      ],
      "text/plain": [
       "                                          key_skills  \\\n",
       "0  team skills, communication skills, analytical ...   \n",
       "1  ppc, logistics, inventory management, supply c...   \n",
       "2  HR Analytics, Employee Engagement, Training, S...   \n",
       "3  SQL, Javascript, Automation, Python, Ruby, Ana...   \n",
       "4  accounting, finance, cash flow, financial plan...   \n",
       "\n",
       "                                           job_desig  \\\n",
       "0        Senior Exploit and Vulnerability Researcher   \n",
       "1                                           Head SCM   \n",
       "2  Deputy Manager - Talent Management & Leadershi...   \n",
       "3                 Associate Manager Data Engineering   \n",
       "4                            TS- GSA- Senior Analyst   \n",
       "\n",
       "                                     job_description               location  \\\n",
       "0  Exp: Minimum 5 years;Good understanding of IOC...  Delhi NCR(Vikas Puri)   \n",
       "1  He should have handled a team of atleast 5-6 d...                Sonepat   \n",
       "2  Must be an effective communicator (written & s...              Delhi NCR   \n",
       "3  7  -  10 years of overall experience in data e...              Bengaluru   \n",
       "4  Chartered Accountancy degree or MBA in Finance...                Gurgaon   \n",
       "\n",
       "    job_type experience  salary  \n",
       "0        NaN    5-7 yrs   6to10  \n",
       "1        NaN  10-17 yrs  10to15  \n",
       "2  Analytics    5-9 yrs  15to25  \n",
       "3  Analytics   7-10 yrs  10to15  \n",
       "4        NaN    1-3 yrs    3to6  "
      ]
     },
     "execution_count": 10,
     "metadata": {},
     "output_type": "execute_result"
    }
   ],
   "source": [
    "df_train.head()"
   ]
  },
  {
   "cell_type": "markdown",
   "metadata": {
    "papermill": {
     "duration": 0.069722,
     "end_time": "2020-10-09T13:41:27.652482",
     "exception": false,
     "start_time": "2020-10-09T13:41:27.582760",
     "status": "completed"
    },
    "tags": []
   },
   "source": [
    "Cleaning key_skills column(Removing punctuations,stopwords,lowercasing text)"
   ]
  },
  {
   "cell_type": "code",
   "execution_count": 11,
   "metadata": {
    "execution": {
     "iopub.execute_input": "2020-10-09T13:41:27.804932Z",
     "iopub.status.busy": "2020-10-09T13:41:27.804140Z",
     "iopub.status.idle": "2020-10-09T13:41:28.171954Z",
     "shell.execute_reply": "2020-10-09T13:41:28.172961Z"
    },
    "papermill": {
     "duration": 0.451441,
     "end_time": "2020-10-09T13:41:28.173202",
     "exception": false,
     "start_time": "2020-10-09T13:41:27.721761",
     "status": "completed"
    },
    "tags": []
   },
   "outputs": [
    {
     "name": "stderr",
     "output_type": "stream",
     "text": [
      "/opt/conda/lib/python3.7/site-packages/ipykernel_launcher.py:10: SettingWithCopyWarning: \n",
      "A value is trying to be set on a copy of a slice from a DataFrame.\n",
      "Try using .loc[row_indexer,col_indexer] = value instead\n",
      "\n",
      "See the caveats in the documentation: https://pandas.pydata.org/pandas-docs/stable/user_guide/indexing.html#returning-a-view-versus-a-copy\n",
      "  # Remove the CWD from sys.path while we load stuff.\n"
     ]
    }
   ],
   "source": [
    "import re\n",
    "\n",
    "def clean_skills(skl):\n",
    "    skills = str(skl).lower()\n",
    "    skills = re.sub('\\...','',skills)\n",
    "    skills = re.sub(',','',skills)\n",
    "    skills = re.sub(r'\\s+', ' ', skills)\n",
    "    return skills\n",
    "\n",
    "df_train['skills_cleaned'] = df_train['key_skills'].apply(clean_skills)\n",
    "df_test['skills_cleaned'] = df_test['key_skills'].apply(clean_skills)"
   ]
  },
  {
   "cell_type": "code",
   "execution_count": 12,
   "metadata": {
    "execution": {
     "iopub.execute_input": "2020-10-09T13:41:28.360500Z",
     "iopub.status.busy": "2020-10-09T13:41:28.359665Z",
     "iopub.status.idle": "2020-10-09T13:41:28.364312Z",
     "shell.execute_reply": "2020-10-09T13:41:28.365184Z"
    },
    "papermill": {
     "duration": 0.105611,
     "end_time": "2020-10-09T13:41:28.365381",
     "exception": false,
     "start_time": "2020-10-09T13:41:28.259770",
     "status": "completed"
    },
    "tags": []
   },
   "outputs": [
    {
     "data": {
      "text/html": [
       "<div>\n",
       "<style scoped>\n",
       "    .dataframe tbody tr th:only-of-type {\n",
       "        vertical-align: middle;\n",
       "    }\n",
       "\n",
       "    .dataframe tbody tr th {\n",
       "        vertical-align: top;\n",
       "    }\n",
       "\n",
       "    .dataframe thead th {\n",
       "        text-align: right;\n",
       "    }\n",
       "</style>\n",
       "<table border=\"1\" class=\"dataframe\">\n",
       "  <thead>\n",
       "    <tr style=\"text-align: right;\">\n",
       "      <th></th>\n",
       "      <th>key_skills</th>\n",
       "      <th>job_desig</th>\n",
       "      <th>job_description</th>\n",
       "      <th>location</th>\n",
       "      <th>job_type</th>\n",
       "      <th>experience</th>\n",
       "      <th>salary</th>\n",
       "      <th>skills_cleaned</th>\n",
       "    </tr>\n",
       "  </thead>\n",
       "  <tbody>\n",
       "    <tr>\n",
       "      <th>0</th>\n",
       "      <td>team skills, communication skills, analytical ...</td>\n",
       "      <td>Senior Exploit and Vulnerability Researcher</td>\n",
       "      <td>Exp: Minimum 5 years;Good understanding of IOC...</td>\n",
       "      <td>Delhi NCR(Vikas Puri)</td>\n",
       "      <td>NaN</td>\n",
       "      <td>5-7 yrs</td>\n",
       "      <td>6to10</td>\n",
       "      <td>team skills communication skills analytical sk...</td>\n",
       "    </tr>\n",
       "    <tr>\n",
       "      <th>1</th>\n",
       "      <td>ppc, logistics, inventory management, supply c...</td>\n",
       "      <td>Head SCM</td>\n",
       "      <td>He should have handled a team of atleast 5-6 d...</td>\n",
       "      <td>Sonepat</td>\n",
       "      <td>NaN</td>\n",
       "      <td>10-17 yrs</td>\n",
       "      <td>10to15</td>\n",
       "      <td>ppc logistics inventory management supply chai...</td>\n",
       "    </tr>\n",
       "    <tr>\n",
       "      <th>2</th>\n",
       "      <td>HR Analytics, Employee Engagement, Training, S...</td>\n",
       "      <td>Deputy Manager - Talent Management &amp; Leadershi...</td>\n",
       "      <td>Must be an effective communicator (written &amp; s...</td>\n",
       "      <td>Delhi NCR</td>\n",
       "      <td>Analytics</td>\n",
       "      <td>5-9 yrs</td>\n",
       "      <td>15to25</td>\n",
       "      <td>hr analytics employee engagement training succ...</td>\n",
       "    </tr>\n",
       "    <tr>\n",
       "      <th>3</th>\n",
       "      <td>SQL, Javascript, Automation, Python, Ruby, Ana...</td>\n",
       "      <td>Associate Manager Data Engineering</td>\n",
       "      <td>7  -  10 years of overall experience in data e...</td>\n",
       "      <td>Bengaluru</td>\n",
       "      <td>Analytics</td>\n",
       "      <td>7-10 yrs</td>\n",
       "      <td>10to15</td>\n",
       "      <td>sql javascript automation python ruby analytic...</td>\n",
       "    </tr>\n",
       "    <tr>\n",
       "      <th>4</th>\n",
       "      <td>accounting, finance, cash flow, financial plan...</td>\n",
       "      <td>TS- GSA- Senior Analyst</td>\n",
       "      <td>Chartered Accountancy degree or MBA in Finance...</td>\n",
       "      <td>Gurgaon</td>\n",
       "      <td>NaN</td>\n",
       "      <td>1-3 yrs</td>\n",
       "      <td>3to6</td>\n",
       "      <td>accounting finance cash flow financial plannin...</td>\n",
       "    </tr>\n",
       "  </tbody>\n",
       "</table>\n",
       "</div>"
      ],
      "text/plain": [
       "                                          key_skills  \\\n",
       "0  team skills, communication skills, analytical ...   \n",
       "1  ppc, logistics, inventory management, supply c...   \n",
       "2  HR Analytics, Employee Engagement, Training, S...   \n",
       "3  SQL, Javascript, Automation, Python, Ruby, Ana...   \n",
       "4  accounting, finance, cash flow, financial plan...   \n",
       "\n",
       "                                           job_desig  \\\n",
       "0        Senior Exploit and Vulnerability Researcher   \n",
       "1                                           Head SCM   \n",
       "2  Deputy Manager - Talent Management & Leadershi...   \n",
       "3                 Associate Manager Data Engineering   \n",
       "4                            TS- GSA- Senior Analyst   \n",
       "\n",
       "                                     job_description               location  \\\n",
       "0  Exp: Minimum 5 years;Good understanding of IOC...  Delhi NCR(Vikas Puri)   \n",
       "1  He should have handled a team of atleast 5-6 d...                Sonepat   \n",
       "2  Must be an effective communicator (written & s...              Delhi NCR   \n",
       "3  7  -  10 years of overall experience in data e...              Bengaluru   \n",
       "4  Chartered Accountancy degree or MBA in Finance...                Gurgaon   \n",
       "\n",
       "    job_type experience  salary  \\\n",
       "0        NaN    5-7 yrs   6to10   \n",
       "1        NaN  10-17 yrs  10to15   \n",
       "2  Analytics    5-9 yrs  15to25   \n",
       "3  Analytics   7-10 yrs  10to15   \n",
       "4        NaN    1-3 yrs    3to6   \n",
       "\n",
       "                                      skills_cleaned  \n",
       "0  team skills communication skills analytical sk...  \n",
       "1  ppc logistics inventory management supply chai...  \n",
       "2  hr analytics employee engagement training succ...  \n",
       "3  sql javascript automation python ruby analytic...  \n",
       "4  accounting finance cash flow financial plannin...  "
      ]
     },
     "execution_count": 12,
     "metadata": {},
     "output_type": "execute_result"
    }
   ],
   "source": [
    "df_train.head()"
   ]
  },
  {
   "cell_type": "markdown",
   "metadata": {
    "papermill": {
     "duration": 0.070595,
     "end_time": "2020-10-09T13:41:28.523421",
     "exception": false,
     "start_time": "2020-10-09T13:41:28.452826",
     "status": "completed"
    },
    "tags": []
   },
   "source": [
    "Filling nan values and cleaning Job Description column(Removing punctuations,stopwords,lowercasing text,etc)"
   ]
  },
  {
   "cell_type": "code",
   "execution_count": 13,
   "metadata": {
    "execution": {
     "iopub.execute_input": "2020-10-09T13:41:28.684608Z",
     "iopub.status.busy": "2020-10-09T13:41:28.679336Z",
     "iopub.status.idle": "2020-10-09T13:41:29.195537Z",
     "shell.execute_reply": "2020-10-09T13:41:29.194754Z"
    },
    "papermill": {
     "duration": 0.601801,
     "end_time": "2020-10-09T13:41:29.195661",
     "exception": false,
     "start_time": "2020-10-09T13:41:28.593860",
     "status": "completed"
    },
    "tags": []
   },
   "outputs": [],
   "source": [
    "train.job_description.fillna('missing',inplace = True)\n",
    "test['job_description'].fillna('missing', inplace=True)\n",
    "\n",
    "def clean_job_desc(job):\n",
    "    job_desc = str(job).lower()\n",
    "    job_desc = re.sub(r'[^a-z]', ' ', job_desc)\n",
    "    job_desc = re.sub(r'\\s+', ' ', job_desc)\n",
    "    return job_desc\n",
    "\n",
    "df_train['job_desc_cleaned'] = df_train['job_description'].apply(clean_job_desc)\n",
    "df_test['job_desc_cleaned'] = df_test['job_description'].apply(clean_job_desc)"
   ]
  },
  {
   "cell_type": "code",
   "execution_count": 14,
   "metadata": {
    "execution": {
     "iopub.execute_input": "2020-10-09T13:41:29.355491Z",
     "iopub.status.busy": "2020-10-09T13:41:29.347640Z",
     "iopub.status.idle": "2020-10-09T13:41:29.360809Z",
     "shell.execute_reply": "2020-10-09T13:41:29.360187Z"
    },
    "papermill": {
     "duration": 0.094609,
     "end_time": "2020-10-09T13:41:29.360944",
     "exception": false,
     "start_time": "2020-10-09T13:41:29.266335",
     "status": "completed"
    },
    "tags": []
   },
   "outputs": [
    {
     "data": {
      "text/html": [
       "<div>\n",
       "<style scoped>\n",
       "    .dataframe tbody tr th:only-of-type {\n",
       "        vertical-align: middle;\n",
       "    }\n",
       "\n",
       "    .dataframe tbody tr th {\n",
       "        vertical-align: top;\n",
       "    }\n",
       "\n",
       "    .dataframe thead th {\n",
       "        text-align: right;\n",
       "    }\n",
       "</style>\n",
       "<table border=\"1\" class=\"dataframe\">\n",
       "  <thead>\n",
       "    <tr style=\"text-align: right;\">\n",
       "      <th></th>\n",
       "      <th>key_skills</th>\n",
       "      <th>job_desig</th>\n",
       "      <th>job_description</th>\n",
       "      <th>location</th>\n",
       "      <th>job_type</th>\n",
       "      <th>experience</th>\n",
       "      <th>salary</th>\n",
       "      <th>skills_cleaned</th>\n",
       "      <th>job_desc_cleaned</th>\n",
       "    </tr>\n",
       "  </thead>\n",
       "  <tbody>\n",
       "    <tr>\n",
       "      <th>0</th>\n",
       "      <td>team skills, communication skills, analytical ...</td>\n",
       "      <td>Senior Exploit and Vulnerability Researcher</td>\n",
       "      <td>Exp: Minimum 5 years;Good understanding of IOC...</td>\n",
       "      <td>Delhi NCR(Vikas Puri)</td>\n",
       "      <td>NaN</td>\n",
       "      <td>5-7 yrs</td>\n",
       "      <td>6to10</td>\n",
       "      <td>team skills communication skills analytical sk...</td>\n",
       "      <td>exp minimum years good understanding of ioc ru...</td>\n",
       "    </tr>\n",
       "    <tr>\n",
       "      <th>1</th>\n",
       "      <td>ppc, logistics, inventory management, supply c...</td>\n",
       "      <td>Head SCM</td>\n",
       "      <td>He should have handled a team of atleast 5-6 d...</td>\n",
       "      <td>Sonepat</td>\n",
       "      <td>NaN</td>\n",
       "      <td>10-17 yrs</td>\n",
       "      <td>10to15</td>\n",
       "      <td>ppc logistics inventory management supply chai...</td>\n",
       "      <td>he should have handled a team of atleast direc...</td>\n",
       "    </tr>\n",
       "    <tr>\n",
       "      <th>2</th>\n",
       "      <td>HR Analytics, Employee Engagement, Training, S...</td>\n",
       "      <td>Deputy Manager - Talent Management &amp; Leadershi...</td>\n",
       "      <td>Must be an effective communicator (written &amp; s...</td>\n",
       "      <td>Delhi NCR</td>\n",
       "      <td>Analytics</td>\n",
       "      <td>5-9 yrs</td>\n",
       "      <td>15to25</td>\n",
       "      <td>hr analytics employee engagement training succ...</td>\n",
       "      <td>must be an effective communicator written spok...</td>\n",
       "    </tr>\n",
       "    <tr>\n",
       "      <th>3</th>\n",
       "      <td>SQL, Javascript, Automation, Python, Ruby, Ana...</td>\n",
       "      <td>Associate Manager Data Engineering</td>\n",
       "      <td>7  -  10 years of overall experience in data e...</td>\n",
       "      <td>Bengaluru</td>\n",
       "      <td>Analytics</td>\n",
       "      <td>7-10 yrs</td>\n",
       "      <td>10to15</td>\n",
       "      <td>sql javascript automation python ruby analytic...</td>\n",
       "      <td>years of overall experience in data engineeri...</td>\n",
       "    </tr>\n",
       "    <tr>\n",
       "      <th>4</th>\n",
       "      <td>accounting, finance, cash flow, financial plan...</td>\n",
       "      <td>TS- GSA- Senior Analyst</td>\n",
       "      <td>Chartered Accountancy degree or MBA in Finance...</td>\n",
       "      <td>Gurgaon</td>\n",
       "      <td>NaN</td>\n",
       "      <td>1-3 yrs</td>\n",
       "      <td>3to6</td>\n",
       "      <td>accounting finance cash flow financial plannin...</td>\n",
       "      <td>chartered accountancy degree or mba in finance...</td>\n",
       "    </tr>\n",
       "  </tbody>\n",
       "</table>\n",
       "</div>"
      ],
      "text/plain": [
       "                                          key_skills  \\\n",
       "0  team skills, communication skills, analytical ...   \n",
       "1  ppc, logistics, inventory management, supply c...   \n",
       "2  HR Analytics, Employee Engagement, Training, S...   \n",
       "3  SQL, Javascript, Automation, Python, Ruby, Ana...   \n",
       "4  accounting, finance, cash flow, financial plan...   \n",
       "\n",
       "                                           job_desig  \\\n",
       "0        Senior Exploit and Vulnerability Researcher   \n",
       "1                                           Head SCM   \n",
       "2  Deputy Manager - Talent Management & Leadershi...   \n",
       "3                 Associate Manager Data Engineering   \n",
       "4                            TS- GSA- Senior Analyst   \n",
       "\n",
       "                                     job_description               location  \\\n",
       "0  Exp: Minimum 5 years;Good understanding of IOC...  Delhi NCR(Vikas Puri)   \n",
       "1  He should have handled a team of atleast 5-6 d...                Sonepat   \n",
       "2  Must be an effective communicator (written & s...              Delhi NCR   \n",
       "3  7  -  10 years of overall experience in data e...              Bengaluru   \n",
       "4  Chartered Accountancy degree or MBA in Finance...                Gurgaon   \n",
       "\n",
       "    job_type experience  salary  \\\n",
       "0        NaN    5-7 yrs   6to10   \n",
       "1        NaN  10-17 yrs  10to15   \n",
       "2  Analytics    5-9 yrs  15to25   \n",
       "3  Analytics   7-10 yrs  10to15   \n",
       "4        NaN    1-3 yrs    3to6   \n",
       "\n",
       "                                      skills_cleaned  \\\n",
       "0  team skills communication skills analytical sk...   \n",
       "1  ppc logistics inventory management supply chai...   \n",
       "2  hr analytics employee engagement training succ...   \n",
       "3  sql javascript automation python ruby analytic...   \n",
       "4  accounting finance cash flow financial plannin...   \n",
       "\n",
       "                                    job_desc_cleaned  \n",
       "0  exp minimum years good understanding of ioc ru...  \n",
       "1  he should have handled a team of atleast direc...  \n",
       "2  must be an effective communicator written spok...  \n",
       "3   years of overall experience in data engineeri...  \n",
       "4  chartered accountancy degree or mba in finance...  "
      ]
     },
     "execution_count": 14,
     "metadata": {},
     "output_type": "execute_result"
    }
   ],
   "source": [
    "df_train.head()"
   ]
  },
  {
   "cell_type": "markdown",
   "metadata": {
    "papermill": {
     "duration": 0.071409,
     "end_time": "2020-10-09T13:41:29.503702",
     "exception": false,
     "start_time": "2020-10-09T13:41:29.432293",
     "status": "completed"
    },
    "tags": []
   },
   "source": [
    "Cleaning locations columns"
   ]
  },
  {
   "cell_type": "code",
   "execution_count": 15,
   "metadata": {
    "execution": {
     "iopub.execute_input": "2020-10-09T13:41:29.665703Z",
     "iopub.status.busy": "2020-10-09T13:41:29.660597Z",
     "iopub.status.idle": "2020-10-09T13:41:29.811316Z",
     "shell.execute_reply": "2020-10-09T13:41:29.810651Z"
    },
    "papermill": {
     "duration": 0.237096,
     "end_time": "2020-10-09T13:41:29.811463",
     "exception": false,
     "start_time": "2020-10-09T13:41:29.574367",
     "status": "completed"
    },
    "tags": []
   },
   "outputs": [],
   "source": [
    "\n",
    "def clean_location(loc):\n",
    "    location = loc.lower()\n",
    "    location = re.sub(r'[^a-z]', ' ', location)\n",
    "    location = re.sub(r'\\s+', ' ', location)\n",
    "    return location\n",
    "\n",
    "df_train['loc_cleaned'] = df_train['location'].apply(clean_location)\n",
    "df_test['loc_cleaned'] = df_test['location'].apply(clean_location)"
   ]
  },
  {
   "cell_type": "markdown",
   "metadata": {
    "papermill": {
     "duration": 0.071662,
     "end_time": "2020-10-09T13:41:29.954378",
     "exception": false,
     "start_time": "2020-10-09T13:41:29.882716",
     "status": "completed"
    },
    "tags": []
   },
   "source": [
    "Transforming the Jobs column with consistent values having same meaning."
   ]
  },
  {
   "cell_type": "code",
   "execution_count": 16,
   "metadata": {
    "execution": {
     "iopub.execute_input": "2020-10-09T13:41:30.126557Z",
     "iopub.status.busy": "2020-10-09T13:41:30.125433Z",
     "iopub.status.idle": "2020-10-09T13:41:30.129176Z",
     "shell.execute_reply": "2020-10-09T13:41:30.128443Z"
    },
    "papermill": {
     "duration": 0.102933,
     "end_time": "2020-10-09T13:41:30.129301",
     "exception": false,
     "start_time": "2020-10-09T13:41:30.026368",
     "status": "completed"
    },
    "tags": []
   },
   "outputs": [],
   "source": [
    "train['job_type'].fillna('missingjobtype', inplace=True)\n",
    "train['job_type'].replace('Analytics', 'analytics', inplace=True)\n",
    "train['job_type'].replace('Analytic', 'analytics', inplace=True)\n",
    "train['job_type'].replace('ANALYTICS', 'analytics', inplace=True)\n",
    "train['job_type'].replace('analytic', 'analytics', inplace=True)\n",
    "\n",
    "test['job_type'].fillna('missingjobtype', inplace=True)\n",
    "test['job_type'].replace('Analytics', 'analytics', inplace=True)\n",
    "test['job_type'].replace('Analytic', 'analytics', inplace=True)\n",
    "test['job_type'].replace('ANALYTICS', 'analytics', inplace=True)\n",
    "test['job_type'].replace('analytic', 'analytics', inplace=True)\n",
    "\n",
    "df_train['job_type_cleaned'] = train['job_type'] \n",
    "df_test['job_type_cleaned'] = test['job_type']"
   ]
  },
  {
   "cell_type": "code",
   "execution_count": 17,
   "metadata": {
    "execution": {
     "iopub.execute_input": "2020-10-09T13:41:30.294001Z",
     "iopub.status.busy": "2020-10-09T13:41:30.293055Z",
     "iopub.status.idle": "2020-10-09T13:41:30.297096Z",
     "shell.execute_reply": "2020-10-09T13:41:30.297718Z"
    },
    "papermill": {
     "duration": 0.097126,
     "end_time": "2020-10-09T13:41:30.297886",
     "exception": false,
     "start_time": "2020-10-09T13:41:30.200760",
     "status": "completed"
    },
    "tags": []
   },
   "outputs": [
    {
     "data": {
      "text/html": [
       "<div>\n",
       "<style scoped>\n",
       "    .dataframe tbody tr th:only-of-type {\n",
       "        vertical-align: middle;\n",
       "    }\n",
       "\n",
       "    .dataframe tbody tr th {\n",
       "        vertical-align: top;\n",
       "    }\n",
       "\n",
       "    .dataframe thead th {\n",
       "        text-align: right;\n",
       "    }\n",
       "</style>\n",
       "<table border=\"1\" class=\"dataframe\">\n",
       "  <thead>\n",
       "    <tr style=\"text-align: right;\">\n",
       "      <th></th>\n",
       "      <th>key_skills</th>\n",
       "      <th>job_desig</th>\n",
       "      <th>job_description</th>\n",
       "      <th>location</th>\n",
       "      <th>job_type</th>\n",
       "      <th>experience</th>\n",
       "      <th>salary</th>\n",
       "      <th>skills_cleaned</th>\n",
       "      <th>job_desc_cleaned</th>\n",
       "      <th>loc_cleaned</th>\n",
       "      <th>job_type_cleaned</th>\n",
       "    </tr>\n",
       "  </thead>\n",
       "  <tbody>\n",
       "    <tr>\n",
       "      <th>0</th>\n",
       "      <td>team skills, communication skills, analytical ...</td>\n",
       "      <td>Senior Exploit and Vulnerability Researcher</td>\n",
       "      <td>Exp: Minimum 5 years;Good understanding of IOC...</td>\n",
       "      <td>Delhi NCR(Vikas Puri)</td>\n",
       "      <td>NaN</td>\n",
       "      <td>5-7 yrs</td>\n",
       "      <td>6to10</td>\n",
       "      <td>team skills communication skills analytical sk...</td>\n",
       "      <td>exp minimum years good understanding of ioc ru...</td>\n",
       "      <td>delhi ncr vikas puri</td>\n",
       "      <td>missingjobtype</td>\n",
       "    </tr>\n",
       "    <tr>\n",
       "      <th>1</th>\n",
       "      <td>ppc, logistics, inventory management, supply c...</td>\n",
       "      <td>Head SCM</td>\n",
       "      <td>He should have handled a team of atleast 5-6 d...</td>\n",
       "      <td>Sonepat</td>\n",
       "      <td>NaN</td>\n",
       "      <td>10-17 yrs</td>\n",
       "      <td>10to15</td>\n",
       "      <td>ppc logistics inventory management supply chai...</td>\n",
       "      <td>he should have handled a team of atleast direc...</td>\n",
       "      <td>sonepat</td>\n",
       "      <td>missingjobtype</td>\n",
       "    </tr>\n",
       "    <tr>\n",
       "      <th>2</th>\n",
       "      <td>HR Analytics, Employee Engagement, Training, S...</td>\n",
       "      <td>Deputy Manager - Talent Management &amp; Leadershi...</td>\n",
       "      <td>Must be an effective communicator (written &amp; s...</td>\n",
       "      <td>Delhi NCR</td>\n",
       "      <td>Analytics</td>\n",
       "      <td>5-9 yrs</td>\n",
       "      <td>15to25</td>\n",
       "      <td>hr analytics employee engagement training succ...</td>\n",
       "      <td>must be an effective communicator written spok...</td>\n",
       "      <td>delhi ncr</td>\n",
       "      <td>analytics</td>\n",
       "    </tr>\n",
       "    <tr>\n",
       "      <th>3</th>\n",
       "      <td>SQL, Javascript, Automation, Python, Ruby, Ana...</td>\n",
       "      <td>Associate Manager Data Engineering</td>\n",
       "      <td>7  -  10 years of overall experience in data e...</td>\n",
       "      <td>Bengaluru</td>\n",
       "      <td>Analytics</td>\n",
       "      <td>7-10 yrs</td>\n",
       "      <td>10to15</td>\n",
       "      <td>sql javascript automation python ruby analytic...</td>\n",
       "      <td>years of overall experience in data engineeri...</td>\n",
       "      <td>bengaluru</td>\n",
       "      <td>analytics</td>\n",
       "    </tr>\n",
       "    <tr>\n",
       "      <th>4</th>\n",
       "      <td>accounting, finance, cash flow, financial plan...</td>\n",
       "      <td>TS- GSA- Senior Analyst</td>\n",
       "      <td>Chartered Accountancy degree or MBA in Finance...</td>\n",
       "      <td>Gurgaon</td>\n",
       "      <td>NaN</td>\n",
       "      <td>1-3 yrs</td>\n",
       "      <td>3to6</td>\n",
       "      <td>accounting finance cash flow financial plannin...</td>\n",
       "      <td>chartered accountancy degree or mba in finance...</td>\n",
       "      <td>gurgaon</td>\n",
       "      <td>missingjobtype</td>\n",
       "    </tr>\n",
       "  </tbody>\n",
       "</table>\n",
       "</div>"
      ],
      "text/plain": [
       "                                          key_skills  \\\n",
       "0  team skills, communication skills, analytical ...   \n",
       "1  ppc, logistics, inventory management, supply c...   \n",
       "2  HR Analytics, Employee Engagement, Training, S...   \n",
       "3  SQL, Javascript, Automation, Python, Ruby, Ana...   \n",
       "4  accounting, finance, cash flow, financial plan...   \n",
       "\n",
       "                                           job_desig  \\\n",
       "0        Senior Exploit and Vulnerability Researcher   \n",
       "1                                           Head SCM   \n",
       "2  Deputy Manager - Talent Management & Leadershi...   \n",
       "3                 Associate Manager Data Engineering   \n",
       "4                            TS- GSA- Senior Analyst   \n",
       "\n",
       "                                     job_description               location  \\\n",
       "0  Exp: Minimum 5 years;Good understanding of IOC...  Delhi NCR(Vikas Puri)   \n",
       "1  He should have handled a team of atleast 5-6 d...                Sonepat   \n",
       "2  Must be an effective communicator (written & s...              Delhi NCR   \n",
       "3  7  -  10 years of overall experience in data e...              Bengaluru   \n",
       "4  Chartered Accountancy degree or MBA in Finance...                Gurgaon   \n",
       "\n",
       "    job_type experience  salary  \\\n",
       "0        NaN    5-7 yrs   6to10   \n",
       "1        NaN  10-17 yrs  10to15   \n",
       "2  Analytics    5-9 yrs  15to25   \n",
       "3  Analytics   7-10 yrs  10to15   \n",
       "4        NaN    1-3 yrs    3to6   \n",
       "\n",
       "                                      skills_cleaned  \\\n",
       "0  team skills communication skills analytical sk...   \n",
       "1  ppc logistics inventory management supply chai...   \n",
       "2  hr analytics employee engagement training succ...   \n",
       "3  sql javascript automation python ruby analytic...   \n",
       "4  accounting finance cash flow financial plannin...   \n",
       "\n",
       "                                    job_desc_cleaned            loc_cleaned  \\\n",
       "0  exp minimum years good understanding of ioc ru...  delhi ncr vikas puri    \n",
       "1  he should have handled a team of atleast direc...                sonepat   \n",
       "2  must be an effective communicator written spok...              delhi ncr   \n",
       "3   years of overall experience in data engineeri...              bengaluru   \n",
       "4  chartered accountancy degree or mba in finance...                gurgaon   \n",
       "\n",
       "  job_type_cleaned  \n",
       "0   missingjobtype  \n",
       "1   missingjobtype  \n",
       "2        analytics  \n",
       "3        analytics  \n",
       "4   missingjobtype  "
      ]
     },
     "execution_count": 17,
     "metadata": {},
     "output_type": "execute_result"
    }
   ],
   "source": [
    "df_train.head()"
   ]
  },
  {
   "cell_type": "code",
   "execution_count": 18,
   "metadata": {
    "execution": {
     "iopub.execute_input": "2020-10-09T13:41:30.464521Z",
     "iopub.status.busy": "2020-10-09T13:41:30.463480Z",
     "iopub.status.idle": "2020-10-09T13:41:30.481588Z",
     "shell.execute_reply": "2020-10-09T13:41:30.480877Z"
    },
    "papermill": {
     "duration": 0.11107,
     "end_time": "2020-10-09T13:41:30.481723",
     "exception": false,
     "start_time": "2020-10-09T13:41:30.370653",
     "status": "completed"
    },
    "tags": []
   },
   "outputs": [
    {
     "data": {
      "text/plain": [
       "key_skills              0\n",
       "job_desig               0\n",
       "job_description      4417\n",
       "location                0\n",
       "job_type            15005\n",
       "experience              0\n",
       "salary                  0\n",
       "skills_cleaned          0\n",
       "job_desc_cleaned        0\n",
       "loc_cleaned             0\n",
       "job_type_cleaned        0\n",
       "dtype: int64"
      ]
     },
     "execution_count": 18,
     "metadata": {},
     "output_type": "execute_result"
    }
   ],
   "source": [
    "df_train.isna().sum()"
   ]
  },
  {
   "cell_type": "code",
   "execution_count": 19,
   "metadata": {
    "execution": {
     "iopub.execute_input": "2020-10-09T13:41:30.648663Z",
     "iopub.status.busy": "2020-10-09T13:41:30.634409Z",
     "iopub.status.idle": "2020-10-09T13:41:30.653771Z",
     "shell.execute_reply": "2020-10-09T13:41:30.653185Z"
    },
    "papermill": {
     "duration": 0.099177,
     "end_time": "2020-10-09T13:41:30.653911",
     "exception": false,
     "start_time": "2020-10-09T13:41:30.554734",
     "status": "completed"
    },
    "tags": []
   },
   "outputs": [
    {
     "data": {
      "text/html": [
       "<div>\n",
       "<style scoped>\n",
       "    .dataframe tbody tr th:only-of-type {\n",
       "        vertical-align: middle;\n",
       "    }\n",
       "\n",
       "    .dataframe tbody tr th {\n",
       "        vertical-align: top;\n",
       "    }\n",
       "\n",
       "    .dataframe thead th {\n",
       "        text-align: right;\n",
       "    }\n",
       "</style>\n",
       "<table border=\"1\" class=\"dataframe\">\n",
       "  <thead>\n",
       "    <tr style=\"text-align: right;\">\n",
       "      <th></th>\n",
       "      <th>key_skills</th>\n",
       "      <th>job_desig</th>\n",
       "      <th>job_description</th>\n",
       "      <th>location</th>\n",
       "      <th>job_type</th>\n",
       "      <th>experience</th>\n",
       "      <th>salary</th>\n",
       "      <th>skills_cleaned</th>\n",
       "      <th>job_desc_cleaned</th>\n",
       "      <th>loc_cleaned</th>\n",
       "      <th>job_type_cleaned</th>\n",
       "    </tr>\n",
       "  </thead>\n",
       "  <tbody>\n",
       "    <tr>\n",
       "      <th>0</th>\n",
       "      <td>team skills, communication skills, analytical ...</td>\n",
       "      <td>Senior Exploit and Vulnerability Researcher</td>\n",
       "      <td>Exp: Minimum 5 years;Good understanding of IOC...</td>\n",
       "      <td>Delhi NCR(Vikas Puri)</td>\n",
       "      <td>NaN</td>\n",
       "      <td>5-7 yrs</td>\n",
       "      <td>6to10</td>\n",
       "      <td>team skills communication skills analytical sk...</td>\n",
       "      <td>exp minimum years good understanding of ioc ru...</td>\n",
       "      <td>delhi ncr vikas puri</td>\n",
       "      <td>missingjobtype</td>\n",
       "    </tr>\n",
       "    <tr>\n",
       "      <th>1</th>\n",
       "      <td>ppc, logistics, inventory management, supply c...</td>\n",
       "      <td>Head SCM</td>\n",
       "      <td>He should have handled a team of atleast 5-6 d...</td>\n",
       "      <td>Sonepat</td>\n",
       "      <td>NaN</td>\n",
       "      <td>10-17 yrs</td>\n",
       "      <td>10to15</td>\n",
       "      <td>ppc logistics inventory management supply chai...</td>\n",
       "      <td>he should have handled a team of atleast direc...</td>\n",
       "      <td>sonepat</td>\n",
       "      <td>missingjobtype</td>\n",
       "    </tr>\n",
       "    <tr>\n",
       "      <th>2</th>\n",
       "      <td>HR Analytics, Employee Engagement, Training, S...</td>\n",
       "      <td>Deputy Manager - Talent Management &amp; Leadershi...</td>\n",
       "      <td>Must be an effective communicator (written &amp; s...</td>\n",
       "      <td>Delhi NCR</td>\n",
       "      <td>Analytics</td>\n",
       "      <td>5-9 yrs</td>\n",
       "      <td>15to25</td>\n",
       "      <td>hr analytics employee engagement training succ...</td>\n",
       "      <td>must be an effective communicator written spok...</td>\n",
       "      <td>delhi ncr</td>\n",
       "      <td>analytics</td>\n",
       "    </tr>\n",
       "    <tr>\n",
       "      <th>3</th>\n",
       "      <td>SQL, Javascript, Automation, Python, Ruby, Ana...</td>\n",
       "      <td>Associate Manager Data Engineering</td>\n",
       "      <td>7  -  10 years of overall experience in data e...</td>\n",
       "      <td>Bengaluru</td>\n",
       "      <td>Analytics</td>\n",
       "      <td>7-10 yrs</td>\n",
       "      <td>10to15</td>\n",
       "      <td>sql javascript automation python ruby analytic...</td>\n",
       "      <td>years of overall experience in data engineeri...</td>\n",
       "      <td>bengaluru</td>\n",
       "      <td>analytics</td>\n",
       "    </tr>\n",
       "    <tr>\n",
       "      <th>4</th>\n",
       "      <td>accounting, finance, cash flow, financial plan...</td>\n",
       "      <td>TS- GSA- Senior Analyst</td>\n",
       "      <td>Chartered Accountancy degree or MBA in Finance...</td>\n",
       "      <td>Gurgaon</td>\n",
       "      <td>NaN</td>\n",
       "      <td>1-3 yrs</td>\n",
       "      <td>3to6</td>\n",
       "      <td>accounting finance cash flow financial plannin...</td>\n",
       "      <td>chartered accountancy degree or mba in finance...</td>\n",
       "      <td>gurgaon</td>\n",
       "      <td>missingjobtype</td>\n",
       "    </tr>\n",
       "  </tbody>\n",
       "</table>\n",
       "</div>"
      ],
      "text/plain": [
       "                                          key_skills  \\\n",
       "0  team skills, communication skills, analytical ...   \n",
       "1  ppc, logistics, inventory management, supply c...   \n",
       "2  HR Analytics, Employee Engagement, Training, S...   \n",
       "3  SQL, Javascript, Automation, Python, Ruby, Ana...   \n",
       "4  accounting, finance, cash flow, financial plan...   \n",
       "\n",
       "                                           job_desig  \\\n",
       "0        Senior Exploit and Vulnerability Researcher   \n",
       "1                                           Head SCM   \n",
       "2  Deputy Manager - Talent Management & Leadershi...   \n",
       "3                 Associate Manager Data Engineering   \n",
       "4                            TS- GSA- Senior Analyst   \n",
       "\n",
       "                                     job_description               location  \\\n",
       "0  Exp: Minimum 5 years;Good understanding of IOC...  Delhi NCR(Vikas Puri)   \n",
       "1  He should have handled a team of atleast 5-6 d...                Sonepat   \n",
       "2  Must be an effective communicator (written & s...              Delhi NCR   \n",
       "3  7  -  10 years of overall experience in data e...              Bengaluru   \n",
       "4  Chartered Accountancy degree or MBA in Finance...                Gurgaon   \n",
       "\n",
       "    job_type experience  salary  \\\n",
       "0        NaN    5-7 yrs   6to10   \n",
       "1        NaN  10-17 yrs  10to15   \n",
       "2  Analytics    5-9 yrs  15to25   \n",
       "3  Analytics   7-10 yrs  10to15   \n",
       "4        NaN    1-3 yrs    3to6   \n",
       "\n",
       "                                      skills_cleaned  \\\n",
       "0  team skills communication skills analytical sk...   \n",
       "1  ppc logistics inventory management supply chai...   \n",
       "2  hr analytics employee engagement training succ...   \n",
       "3  sql javascript automation python ruby analytic...   \n",
       "4  accounting finance cash flow financial plannin...   \n",
       "\n",
       "                                    job_desc_cleaned            loc_cleaned  \\\n",
       "0  exp minimum years good understanding of ioc ru...  delhi ncr vikas puri    \n",
       "1  he should have handled a team of atleast direc...                sonepat   \n",
       "2  must be an effective communicator written spok...              delhi ncr   \n",
       "3   years of overall experience in data engineeri...              bengaluru   \n",
       "4  chartered accountancy degree or mba in finance...                gurgaon   \n",
       "\n",
       "  job_type_cleaned  \n",
       "0   missingjobtype  \n",
       "1   missingjobtype  \n",
       "2        analytics  \n",
       "3        analytics  \n",
       "4   missingjobtype  "
      ]
     },
     "execution_count": 19,
     "metadata": {},
     "output_type": "execute_result"
    }
   ],
   "source": [
    "df_train.head()"
   ]
  },
  {
   "cell_type": "markdown",
   "metadata": {
    "papermill": {
     "duration": 0.074915,
     "end_time": "2020-10-09T13:41:30.809073",
     "exception": false,
     "start_time": "2020-10-09T13:41:30.734158",
     "status": "completed"
    },
    "tags": []
   },
   "source": [
    "Extracting minimum and maximum experience from the Experience column"
   ]
  },
  {
   "cell_type": "code",
   "execution_count": 20,
   "metadata": {
    "execution": {
     "iopub.execute_input": "2020-10-09T13:41:30.979139Z",
     "iopub.status.busy": "2020-10-09T13:41:30.973301Z",
     "iopub.status.idle": "2020-10-09T13:41:31.176168Z",
     "shell.execute_reply": "2020-10-09T13:41:31.175498Z"
    },
    "papermill": {
     "duration": 0.293796,
     "end_time": "2020-10-09T13:41:31.176318",
     "exception": false,
     "start_time": "2020-10-09T13:41:30.882522",
     "status": "completed"
    },
    "tags": []
   },
   "outputs": [],
   "source": [
    "def min_exp(val):\n",
    "    exp = re.sub('-',' ',val)\n",
    "    exp = exp.split(\" \")\n",
    "    exp = int(exp[0])\n",
    "    return exp\n",
    "    \n",
    "def max_exp(val):\n",
    "    exp = re.sub('-',' ',val)\n",
    "    exp = exp.split(' ')\n",
    "    exp = int(exp[1])\n",
    "    return exp\n",
    "    \n",
    "df_train['min_exp'] = df_train['experience'].apply(lambda x : min_exp(x))\n",
    "df_train['max_exp'] = df_train['experience'].apply(lambda x : max_exp(x))\n",
    "\n",
    "df_test['min_exp'] = df_test['experience'].apply(lambda x : min_exp(x))\n",
    "df_test['max_exp'] = df_test['experience'].apply(lambda x : max_exp(x))\n",
    "        "
   ]
  },
  {
   "cell_type": "code",
   "execution_count": 21,
   "metadata": {
    "execution": {
     "iopub.execute_input": "2020-10-09T13:41:31.348328Z",
     "iopub.status.busy": "2020-10-09T13:41:31.347246Z",
     "iopub.status.idle": "2020-10-09T13:41:31.352634Z",
     "shell.execute_reply": "2020-10-09T13:41:31.351853Z"
    },
    "papermill": {
     "duration": 0.102115,
     "end_time": "2020-10-09T13:41:31.352764",
     "exception": false,
     "start_time": "2020-10-09T13:41:31.250649",
     "status": "completed"
    },
    "tags": []
   },
   "outputs": [
    {
     "data": {
      "text/html": [
       "<div>\n",
       "<style scoped>\n",
       "    .dataframe tbody tr th:only-of-type {\n",
       "        vertical-align: middle;\n",
       "    }\n",
       "\n",
       "    .dataframe tbody tr th {\n",
       "        vertical-align: top;\n",
       "    }\n",
       "\n",
       "    .dataframe thead th {\n",
       "        text-align: right;\n",
       "    }\n",
       "</style>\n",
       "<table border=\"1\" class=\"dataframe\">\n",
       "  <thead>\n",
       "    <tr style=\"text-align: right;\">\n",
       "      <th></th>\n",
       "      <th>key_skills</th>\n",
       "      <th>job_desig</th>\n",
       "      <th>job_description</th>\n",
       "      <th>location</th>\n",
       "      <th>job_type</th>\n",
       "      <th>experience</th>\n",
       "      <th>salary</th>\n",
       "      <th>skills_cleaned</th>\n",
       "      <th>job_desc_cleaned</th>\n",
       "      <th>loc_cleaned</th>\n",
       "      <th>job_type_cleaned</th>\n",
       "      <th>min_exp</th>\n",
       "      <th>max_exp</th>\n",
       "    </tr>\n",
       "  </thead>\n",
       "  <tbody>\n",
       "    <tr>\n",
       "      <th>0</th>\n",
       "      <td>team skills, communication skills, analytical ...</td>\n",
       "      <td>Senior Exploit and Vulnerability Researcher</td>\n",
       "      <td>Exp: Minimum 5 years;Good understanding of IOC...</td>\n",
       "      <td>Delhi NCR(Vikas Puri)</td>\n",
       "      <td>NaN</td>\n",
       "      <td>5-7 yrs</td>\n",
       "      <td>6to10</td>\n",
       "      <td>team skills communication skills analytical sk...</td>\n",
       "      <td>exp minimum years good understanding of ioc ru...</td>\n",
       "      <td>delhi ncr vikas puri</td>\n",
       "      <td>missingjobtype</td>\n",
       "      <td>5</td>\n",
       "      <td>7</td>\n",
       "    </tr>\n",
       "    <tr>\n",
       "      <th>1</th>\n",
       "      <td>ppc, logistics, inventory management, supply c...</td>\n",
       "      <td>Head SCM</td>\n",
       "      <td>He should have handled a team of atleast 5-6 d...</td>\n",
       "      <td>Sonepat</td>\n",
       "      <td>NaN</td>\n",
       "      <td>10-17 yrs</td>\n",
       "      <td>10to15</td>\n",
       "      <td>ppc logistics inventory management supply chai...</td>\n",
       "      <td>he should have handled a team of atleast direc...</td>\n",
       "      <td>sonepat</td>\n",
       "      <td>missingjobtype</td>\n",
       "      <td>10</td>\n",
       "      <td>17</td>\n",
       "    </tr>\n",
       "    <tr>\n",
       "      <th>2</th>\n",
       "      <td>HR Analytics, Employee Engagement, Training, S...</td>\n",
       "      <td>Deputy Manager - Talent Management &amp; Leadershi...</td>\n",
       "      <td>Must be an effective communicator (written &amp; s...</td>\n",
       "      <td>Delhi NCR</td>\n",
       "      <td>Analytics</td>\n",
       "      <td>5-9 yrs</td>\n",
       "      <td>15to25</td>\n",
       "      <td>hr analytics employee engagement training succ...</td>\n",
       "      <td>must be an effective communicator written spok...</td>\n",
       "      <td>delhi ncr</td>\n",
       "      <td>analytics</td>\n",
       "      <td>5</td>\n",
       "      <td>9</td>\n",
       "    </tr>\n",
       "    <tr>\n",
       "      <th>3</th>\n",
       "      <td>SQL, Javascript, Automation, Python, Ruby, Ana...</td>\n",
       "      <td>Associate Manager Data Engineering</td>\n",
       "      <td>7  -  10 years of overall experience in data e...</td>\n",
       "      <td>Bengaluru</td>\n",
       "      <td>Analytics</td>\n",
       "      <td>7-10 yrs</td>\n",
       "      <td>10to15</td>\n",
       "      <td>sql javascript automation python ruby analytic...</td>\n",
       "      <td>years of overall experience in data engineeri...</td>\n",
       "      <td>bengaluru</td>\n",
       "      <td>analytics</td>\n",
       "      <td>7</td>\n",
       "      <td>10</td>\n",
       "    </tr>\n",
       "    <tr>\n",
       "      <th>4</th>\n",
       "      <td>accounting, finance, cash flow, financial plan...</td>\n",
       "      <td>TS- GSA- Senior Analyst</td>\n",
       "      <td>Chartered Accountancy degree or MBA in Finance...</td>\n",
       "      <td>Gurgaon</td>\n",
       "      <td>NaN</td>\n",
       "      <td>1-3 yrs</td>\n",
       "      <td>3to6</td>\n",
       "      <td>accounting finance cash flow financial plannin...</td>\n",
       "      <td>chartered accountancy degree or mba in finance...</td>\n",
       "      <td>gurgaon</td>\n",
       "      <td>missingjobtype</td>\n",
       "      <td>1</td>\n",
       "      <td>3</td>\n",
       "    </tr>\n",
       "  </tbody>\n",
       "</table>\n",
       "</div>"
      ],
      "text/plain": [
       "                                          key_skills  \\\n",
       "0  team skills, communication skills, analytical ...   \n",
       "1  ppc, logistics, inventory management, supply c...   \n",
       "2  HR Analytics, Employee Engagement, Training, S...   \n",
       "3  SQL, Javascript, Automation, Python, Ruby, Ana...   \n",
       "4  accounting, finance, cash flow, financial plan...   \n",
       "\n",
       "                                           job_desig  \\\n",
       "0        Senior Exploit and Vulnerability Researcher   \n",
       "1                                           Head SCM   \n",
       "2  Deputy Manager - Talent Management & Leadershi...   \n",
       "3                 Associate Manager Data Engineering   \n",
       "4                            TS- GSA- Senior Analyst   \n",
       "\n",
       "                                     job_description               location  \\\n",
       "0  Exp: Minimum 5 years;Good understanding of IOC...  Delhi NCR(Vikas Puri)   \n",
       "1  He should have handled a team of atleast 5-6 d...                Sonepat   \n",
       "2  Must be an effective communicator (written & s...              Delhi NCR   \n",
       "3  7  -  10 years of overall experience in data e...              Bengaluru   \n",
       "4  Chartered Accountancy degree or MBA in Finance...                Gurgaon   \n",
       "\n",
       "    job_type experience  salary  \\\n",
       "0        NaN    5-7 yrs   6to10   \n",
       "1        NaN  10-17 yrs  10to15   \n",
       "2  Analytics    5-9 yrs  15to25   \n",
       "3  Analytics   7-10 yrs  10to15   \n",
       "4        NaN    1-3 yrs    3to6   \n",
       "\n",
       "                                      skills_cleaned  \\\n",
       "0  team skills communication skills analytical sk...   \n",
       "1  ppc logistics inventory management supply chai...   \n",
       "2  hr analytics employee engagement training succ...   \n",
       "3  sql javascript automation python ruby analytic...   \n",
       "4  accounting finance cash flow financial plannin...   \n",
       "\n",
       "                                    job_desc_cleaned            loc_cleaned  \\\n",
       "0  exp minimum years good understanding of ioc ru...  delhi ncr vikas puri    \n",
       "1  he should have handled a team of atleast direc...                sonepat   \n",
       "2  must be an effective communicator written spok...              delhi ncr   \n",
       "3   years of overall experience in data engineeri...              bengaluru   \n",
       "4  chartered accountancy degree or mba in finance...                gurgaon   \n",
       "\n",
       "  job_type_cleaned  min_exp  max_exp  \n",
       "0   missingjobtype        5        7  \n",
       "1   missingjobtype       10       17  \n",
       "2        analytics        5        9  \n",
       "3        analytics        7       10  \n",
       "4   missingjobtype        1        3  "
      ]
     },
     "execution_count": 21,
     "metadata": {},
     "output_type": "execute_result"
    }
   ],
   "source": [
    "df_train.head()"
   ]
  },
  {
   "cell_type": "markdown",
   "metadata": {
    "papermill": {
     "duration": 0.074019,
     "end_time": "2020-10-09T13:41:31.504425",
     "exception": false,
     "start_time": "2020-10-09T13:41:31.430406",
     "status": "completed"
    },
    "tags": []
   },
   "source": [
    "Cleaning Job_description column feature"
   ]
  },
  {
   "cell_type": "code",
   "execution_count": 22,
   "metadata": {
    "execution": {
     "iopub.execute_input": "2020-10-09T13:41:31.678159Z",
     "iopub.status.busy": "2020-10-09T13:41:31.672900Z",
     "iopub.status.idle": "2020-10-09T13:41:31.959937Z",
     "shell.execute_reply": "2020-10-09T13:41:31.959236Z"
    },
    "papermill": {
     "duration": 0.38143,
     "end_time": "2020-10-09T13:41:31.960085",
     "exception": false,
     "start_time": "2020-10-09T13:41:31.578655",
     "status": "completed"
    },
    "tags": []
   },
   "outputs": [],
   "source": [
    "def clean_job_desig(desig):\n",
    "    job_desig = desig.lower()\n",
    "    job_desig = re.sub(r'[^a-z]', ' ', job_desig)\n",
    "    job_desig = re.sub(r'\\s+', ' ', job_desig)\n",
    "    return job_desig\n",
    "\n",
    "df_train['desig_cleaned'] = df_train['job_desig'].apply(clean_job_desig)\n",
    "df_test['desig_cleaned'] = df_test['job_desig'].apply(clean_job_desig)"
   ]
  },
  {
   "cell_type": "markdown",
   "metadata": {
    "papermill": {
     "duration": 0.07858,
     "end_time": "2020-10-09T13:41:32.114943",
     "exception": false,
     "start_time": "2020-10-09T13:41:32.036363",
     "status": "completed"
    },
    "tags": []
   },
   "source": [
    "Making a new aggregate column with clean feature values with text."
   ]
  },
  {
   "cell_type": "code",
   "execution_count": 23,
   "metadata": {
    "execution": {
     "iopub.execute_input": "2020-10-09T13:41:32.306734Z",
     "iopub.status.busy": "2020-10-09T13:41:32.283200Z",
     "iopub.status.idle": "2020-10-09T13:41:32.322492Z",
     "shell.execute_reply": "2020-10-09T13:41:32.321830Z"
    },
    "papermill": {
     "duration": 0.132559,
     "end_time": "2020-10-09T13:41:32.322632",
     "exception": false,
     "start_time": "2020-10-09T13:41:32.190073",
     "status": "completed"
    },
    "tags": []
   },
   "outputs": [],
   "source": [
    "df_train['merged'] = (df_train['desig_cleaned'] + ' ' + df_train['job_desc_cleaned'] + ' ' + df_train['skills_cleaned']\n",
    "                      + ' ' + df_train['job_type_cleaned'])\n",
    "\n",
    "df_test['merged'] = (df_test['desig_cleaned'] + ' ' + df_test['job_desc_cleaned'] + ' ' + df_test['skills_cleaned']\n",
    "                     + ' ' + df_test['job_type_cleaned'])"
   ]
  },
  {
   "cell_type": "code",
   "execution_count": 24,
   "metadata": {
    "execution": {
     "iopub.execute_input": "2020-10-09T13:41:32.496872Z",
     "iopub.status.busy": "2020-10-09T13:41:32.495804Z",
     "iopub.status.idle": "2020-10-09T13:41:32.501165Z",
     "shell.execute_reply": "2020-10-09T13:41:32.500497Z"
    },
    "papermill": {
     "duration": 0.103204,
     "end_time": "2020-10-09T13:41:32.501300",
     "exception": false,
     "start_time": "2020-10-09T13:41:32.398096",
     "status": "completed"
    },
    "tags": []
   },
   "outputs": [
    {
     "data": {
      "text/html": [
       "<div>\n",
       "<style scoped>\n",
       "    .dataframe tbody tr th:only-of-type {\n",
       "        vertical-align: middle;\n",
       "    }\n",
       "\n",
       "    .dataframe tbody tr th {\n",
       "        vertical-align: top;\n",
       "    }\n",
       "\n",
       "    .dataframe thead th {\n",
       "        text-align: right;\n",
       "    }\n",
       "</style>\n",
       "<table border=\"1\" class=\"dataframe\">\n",
       "  <thead>\n",
       "    <tr style=\"text-align: right;\">\n",
       "      <th></th>\n",
       "      <th>key_skills</th>\n",
       "      <th>job_desig</th>\n",
       "      <th>job_description</th>\n",
       "      <th>location</th>\n",
       "      <th>job_type</th>\n",
       "      <th>experience</th>\n",
       "      <th>salary</th>\n",
       "      <th>skills_cleaned</th>\n",
       "      <th>job_desc_cleaned</th>\n",
       "      <th>loc_cleaned</th>\n",
       "      <th>job_type_cleaned</th>\n",
       "      <th>min_exp</th>\n",
       "      <th>max_exp</th>\n",
       "      <th>desig_cleaned</th>\n",
       "      <th>merged</th>\n",
       "    </tr>\n",
       "  </thead>\n",
       "  <tbody>\n",
       "    <tr>\n",
       "      <th>0</th>\n",
       "      <td>team skills, communication skills, analytical ...</td>\n",
       "      <td>Senior Exploit and Vulnerability Researcher</td>\n",
       "      <td>Exp: Minimum 5 years;Good understanding of IOC...</td>\n",
       "      <td>Delhi NCR(Vikas Puri)</td>\n",
       "      <td>NaN</td>\n",
       "      <td>5-7 yrs</td>\n",
       "      <td>6to10</td>\n",
       "      <td>team skills communication skills analytical sk...</td>\n",
       "      <td>exp minimum years good understanding of ioc ru...</td>\n",
       "      <td>delhi ncr vikas puri</td>\n",
       "      <td>missingjobtype</td>\n",
       "      <td>5</td>\n",
       "      <td>7</td>\n",
       "      <td>senior exploit and vulnerability researcher</td>\n",
       "      <td>senior exploit and vulnerability researcher ex...</td>\n",
       "    </tr>\n",
       "    <tr>\n",
       "      <th>1</th>\n",
       "      <td>ppc, logistics, inventory management, supply c...</td>\n",
       "      <td>Head SCM</td>\n",
       "      <td>He should have handled a team of atleast 5-6 d...</td>\n",
       "      <td>Sonepat</td>\n",
       "      <td>NaN</td>\n",
       "      <td>10-17 yrs</td>\n",
       "      <td>10to15</td>\n",
       "      <td>ppc logistics inventory management supply chai...</td>\n",
       "      <td>he should have handled a team of atleast direc...</td>\n",
       "      <td>sonepat</td>\n",
       "      <td>missingjobtype</td>\n",
       "      <td>10</td>\n",
       "      <td>17</td>\n",
       "      <td>head scm</td>\n",
       "      <td>head scm he should have handled a team of atle...</td>\n",
       "    </tr>\n",
       "    <tr>\n",
       "      <th>2</th>\n",
       "      <td>HR Analytics, Employee Engagement, Training, S...</td>\n",
       "      <td>Deputy Manager - Talent Management &amp; Leadershi...</td>\n",
       "      <td>Must be an effective communicator (written &amp; s...</td>\n",
       "      <td>Delhi NCR</td>\n",
       "      <td>Analytics</td>\n",
       "      <td>5-9 yrs</td>\n",
       "      <td>15to25</td>\n",
       "      <td>hr analytics employee engagement training succ...</td>\n",
       "      <td>must be an effective communicator written spok...</td>\n",
       "      <td>delhi ncr</td>\n",
       "      <td>analytics</td>\n",
       "      <td>5</td>\n",
       "      <td>9</td>\n",
       "      <td>deputy manager talent management leadership de...</td>\n",
       "      <td>deputy manager talent management leadership de...</td>\n",
       "    </tr>\n",
       "    <tr>\n",
       "      <th>3</th>\n",
       "      <td>SQL, Javascript, Automation, Python, Ruby, Ana...</td>\n",
       "      <td>Associate Manager Data Engineering</td>\n",
       "      <td>7  -  10 years of overall experience in data e...</td>\n",
       "      <td>Bengaluru</td>\n",
       "      <td>Analytics</td>\n",
       "      <td>7-10 yrs</td>\n",
       "      <td>10to15</td>\n",
       "      <td>sql javascript automation python ruby analytic...</td>\n",
       "      <td>years of overall experience in data engineeri...</td>\n",
       "      <td>bengaluru</td>\n",
       "      <td>analytics</td>\n",
       "      <td>7</td>\n",
       "      <td>10</td>\n",
       "      <td>associate manager data engineering</td>\n",
       "      <td>associate manager data engineering  years of o...</td>\n",
       "    </tr>\n",
       "    <tr>\n",
       "      <th>4</th>\n",
       "      <td>accounting, finance, cash flow, financial plan...</td>\n",
       "      <td>TS- GSA- Senior Analyst</td>\n",
       "      <td>Chartered Accountancy degree or MBA in Finance...</td>\n",
       "      <td>Gurgaon</td>\n",
       "      <td>NaN</td>\n",
       "      <td>1-3 yrs</td>\n",
       "      <td>3to6</td>\n",
       "      <td>accounting finance cash flow financial plannin...</td>\n",
       "      <td>chartered accountancy degree or mba in finance...</td>\n",
       "      <td>gurgaon</td>\n",
       "      <td>missingjobtype</td>\n",
       "      <td>1</td>\n",
       "      <td>3</td>\n",
       "      <td>ts gsa senior analyst</td>\n",
       "      <td>ts gsa senior analyst chartered accountancy de...</td>\n",
       "    </tr>\n",
       "  </tbody>\n",
       "</table>\n",
       "</div>"
      ],
      "text/plain": [
       "                                          key_skills  \\\n",
       "0  team skills, communication skills, analytical ...   \n",
       "1  ppc, logistics, inventory management, supply c...   \n",
       "2  HR Analytics, Employee Engagement, Training, S...   \n",
       "3  SQL, Javascript, Automation, Python, Ruby, Ana...   \n",
       "4  accounting, finance, cash flow, financial plan...   \n",
       "\n",
       "                                           job_desig  \\\n",
       "0        Senior Exploit and Vulnerability Researcher   \n",
       "1                                           Head SCM   \n",
       "2  Deputy Manager - Talent Management & Leadershi...   \n",
       "3                 Associate Manager Data Engineering   \n",
       "4                            TS- GSA- Senior Analyst   \n",
       "\n",
       "                                     job_description               location  \\\n",
       "0  Exp: Minimum 5 years;Good understanding of IOC...  Delhi NCR(Vikas Puri)   \n",
       "1  He should have handled a team of atleast 5-6 d...                Sonepat   \n",
       "2  Must be an effective communicator (written & s...              Delhi NCR   \n",
       "3  7  -  10 years of overall experience in data e...              Bengaluru   \n",
       "4  Chartered Accountancy degree or MBA in Finance...                Gurgaon   \n",
       "\n",
       "    job_type experience  salary  \\\n",
       "0        NaN    5-7 yrs   6to10   \n",
       "1        NaN  10-17 yrs  10to15   \n",
       "2  Analytics    5-9 yrs  15to25   \n",
       "3  Analytics   7-10 yrs  10to15   \n",
       "4        NaN    1-3 yrs    3to6   \n",
       "\n",
       "                                      skills_cleaned  \\\n",
       "0  team skills communication skills analytical sk...   \n",
       "1  ppc logistics inventory management supply chai...   \n",
       "2  hr analytics employee engagement training succ...   \n",
       "3  sql javascript automation python ruby analytic...   \n",
       "4  accounting finance cash flow financial plannin...   \n",
       "\n",
       "                                    job_desc_cleaned            loc_cleaned  \\\n",
       "0  exp minimum years good understanding of ioc ru...  delhi ncr vikas puri    \n",
       "1  he should have handled a team of atleast direc...                sonepat   \n",
       "2  must be an effective communicator written spok...              delhi ncr   \n",
       "3   years of overall experience in data engineeri...              bengaluru   \n",
       "4  chartered accountancy degree or mba in finance...                gurgaon   \n",
       "\n",
       "  job_type_cleaned  min_exp  max_exp  \\\n",
       "0   missingjobtype        5        7   \n",
       "1   missingjobtype       10       17   \n",
       "2        analytics        5        9   \n",
       "3        analytics        7       10   \n",
       "4   missingjobtype        1        3   \n",
       "\n",
       "                                       desig_cleaned  \\\n",
       "0        senior exploit and vulnerability researcher   \n",
       "1                                           head scm   \n",
       "2  deputy manager talent management leadership de...   \n",
       "3                 associate manager data engineering   \n",
       "4                              ts gsa senior analyst   \n",
       "\n",
       "                                              merged  \n",
       "0  senior exploit and vulnerability researcher ex...  \n",
       "1  head scm he should have handled a team of atle...  \n",
       "2  deputy manager talent management leadership de...  \n",
       "3  associate manager data engineering  years of o...  \n",
       "4  ts gsa senior analyst chartered accountancy de...  "
      ]
     },
     "execution_count": 24,
     "metadata": {},
     "output_type": "execute_result"
    }
   ],
   "source": [
    "df_train.head()"
   ]
  },
  {
   "cell_type": "markdown",
   "metadata": {
    "papermill": {
     "duration": 0.075978,
     "end_time": "2020-10-09T13:41:32.653042",
     "exception": false,
     "start_time": "2020-10-09T13:41:32.577064",
     "status": "completed"
    },
    "tags": []
   },
   "source": [
    "Final Feature Selection to obtain the final dataframe which will be used for modelling."
   ]
  },
  {
   "cell_type": "code",
   "execution_count": 25,
   "metadata": {
    "execution": {
     "iopub.execute_input": "2020-10-09T13:41:32.811618Z",
     "iopub.status.busy": "2020-10-09T13:41:32.810766Z",
     "iopub.status.idle": "2020-10-09T13:41:32.835392Z",
     "shell.execute_reply": "2020-10-09T13:41:32.834583Z"
    },
    "papermill": {
     "duration": 0.106903,
     "end_time": "2020-10-09T13:41:32.835523",
     "exception": false,
     "start_time": "2020-10-09T13:41:32.728620",
     "status": "completed"
    },
    "tags": []
   },
   "outputs": [],
   "source": [
    "data_train  = df_train[['merged', 'loc_cleaned', 'min_exp', 'max_exp']] \n",
    "data_test = df_test[['merged', 'loc_cleaned', 'min_exp', 'max_exp']] "
   ]
  },
  {
   "cell_type": "code",
   "execution_count": 26,
   "metadata": {
    "execution": {
     "iopub.execute_input": "2020-10-09T13:41:33.052473Z",
     "iopub.status.busy": "2020-10-09T13:41:33.051413Z",
     "iopub.status.idle": "2020-10-09T13:41:33.056393Z",
     "shell.execute_reply": "2020-10-09T13:41:33.055770Z"
    },
    "papermill": {
     "duration": 0.094039,
     "end_time": "2020-10-09T13:41:33.056544",
     "exception": false,
     "start_time": "2020-10-09T13:41:32.962505",
     "status": "completed"
    },
    "tags": []
   },
   "outputs": [
    {
     "data": {
      "text/html": [
       "<div>\n",
       "<style scoped>\n",
       "    .dataframe tbody tr th:only-of-type {\n",
       "        vertical-align: middle;\n",
       "    }\n",
       "\n",
       "    .dataframe tbody tr th {\n",
       "        vertical-align: top;\n",
       "    }\n",
       "\n",
       "    .dataframe thead th {\n",
       "        text-align: right;\n",
       "    }\n",
       "</style>\n",
       "<table border=\"1\" class=\"dataframe\">\n",
       "  <thead>\n",
       "    <tr style=\"text-align: right;\">\n",
       "      <th></th>\n",
       "      <th>merged</th>\n",
       "      <th>loc_cleaned</th>\n",
       "      <th>min_exp</th>\n",
       "      <th>max_exp</th>\n",
       "    </tr>\n",
       "  </thead>\n",
       "  <tbody>\n",
       "    <tr>\n",
       "      <th>0</th>\n",
       "      <td>senior exploit and vulnerability researcher ex...</td>\n",
       "      <td>delhi ncr vikas puri</td>\n",
       "      <td>5</td>\n",
       "      <td>7</td>\n",
       "    </tr>\n",
       "    <tr>\n",
       "      <th>1</th>\n",
       "      <td>head scm he should have handled a team of atle...</td>\n",
       "      <td>sonepat</td>\n",
       "      <td>10</td>\n",
       "      <td>17</td>\n",
       "    </tr>\n",
       "    <tr>\n",
       "      <th>2</th>\n",
       "      <td>deputy manager talent management leadership de...</td>\n",
       "      <td>delhi ncr</td>\n",
       "      <td>5</td>\n",
       "      <td>9</td>\n",
       "    </tr>\n",
       "    <tr>\n",
       "      <th>3</th>\n",
       "      <td>associate manager data engineering  years of o...</td>\n",
       "      <td>bengaluru</td>\n",
       "      <td>7</td>\n",
       "      <td>10</td>\n",
       "    </tr>\n",
       "    <tr>\n",
       "      <th>4</th>\n",
       "      <td>ts gsa senior analyst chartered accountancy de...</td>\n",
       "      <td>gurgaon</td>\n",
       "      <td>1</td>\n",
       "      <td>3</td>\n",
       "    </tr>\n",
       "  </tbody>\n",
       "</table>\n",
       "</div>"
      ],
      "text/plain": [
       "                                              merged            loc_cleaned  \\\n",
       "0  senior exploit and vulnerability researcher ex...  delhi ncr vikas puri    \n",
       "1  head scm he should have handled a team of atle...                sonepat   \n",
       "2  deputy manager talent management leadership de...              delhi ncr   \n",
       "3  associate manager data engineering  years of o...              bengaluru   \n",
       "4  ts gsa senior analyst chartered accountancy de...                gurgaon   \n",
       "\n",
       "   min_exp  max_exp  \n",
       "0        5        7  \n",
       "1       10       17  \n",
       "2        5        9  \n",
       "3        7       10  \n",
       "4        1        3  "
      ]
     },
     "execution_count": 26,
     "metadata": {},
     "output_type": "execute_result"
    }
   ],
   "source": [
    "data_train.head()"
   ]
  },
  {
   "cell_type": "code",
   "execution_count": 27,
   "metadata": {
    "execution": {
     "iopub.execute_input": "2020-10-09T13:41:33.225633Z",
     "iopub.status.busy": "2020-10-09T13:41:33.224575Z",
     "iopub.status.idle": "2020-10-09T13:41:33.229297Z",
     "shell.execute_reply": "2020-10-09T13:41:33.228705Z"
    },
    "papermill": {
     "duration": 0.094102,
     "end_time": "2020-10-09T13:41:33.229430",
     "exception": false,
     "start_time": "2020-10-09T13:41:33.135328",
     "status": "completed"
    },
    "tags": []
   },
   "outputs": [
    {
     "data": {
      "text/html": [
       "<div>\n",
       "<style scoped>\n",
       "    .dataframe tbody tr th:only-of-type {\n",
       "        vertical-align: middle;\n",
       "    }\n",
       "\n",
       "    .dataframe tbody tr th {\n",
       "        vertical-align: top;\n",
       "    }\n",
       "\n",
       "    .dataframe thead th {\n",
       "        text-align: right;\n",
       "    }\n",
       "</style>\n",
       "<table border=\"1\" class=\"dataframe\">\n",
       "  <thead>\n",
       "    <tr style=\"text-align: right;\">\n",
       "      <th></th>\n",
       "      <th>merged</th>\n",
       "      <th>loc_cleaned</th>\n",
       "      <th>min_exp</th>\n",
       "      <th>max_exp</th>\n",
       "    </tr>\n",
       "  </thead>\n",
       "  <tbody>\n",
       "    <tr>\n",
       "      <th>0</th>\n",
       "      <td>it technology senior consultant java j ee seve...</td>\n",
       "      <td>bengaluru</td>\n",
       "      <td>7</td>\n",
       "      <td>12</td>\n",
       "    </tr>\n",
       "    <tr>\n",
       "      <th>1</th>\n",
       "      <td>medical billing process international kpo insu...</td>\n",
       "      <td>ahmedabad sola</td>\n",
       "      <td>0</td>\n",
       "      <td>5</td>\n",
       "    </tr>\n",
       "    <tr>\n",
       "      <th>2</th>\n",
       "      <td>oracle sales cloud functional consultant shoul...</td>\n",
       "      <td>bengaluru</td>\n",
       "      <td>3</td>\n",
       "      <td>6</td>\n",
       "    </tr>\n",
       "    <tr>\n",
       "      <th>3</th>\n",
       "      <td>looking for freshers who want to work with us ...</td>\n",
       "      <td>delhi ncr chennai hyderabad gurgaon lucknow mu...</td>\n",
       "      <td>0</td>\n",
       "      <td>3</td>\n",
       "    </tr>\n",
       "    <tr>\n",
       "      <th>4</th>\n",
       "      <td>process associate sr process associate tech as...</td>\n",
       "      <td>hyderabad</td>\n",
       "      <td>0</td>\n",
       "      <td>5</td>\n",
       "    </tr>\n",
       "  </tbody>\n",
       "</table>\n",
       "</div>"
      ],
      "text/plain": [
       "                                              merged  \\\n",
       "0  it technology senior consultant java j ee seve...   \n",
       "1  medical billing process international kpo insu...   \n",
       "2  oracle sales cloud functional consultant shoul...   \n",
       "3  looking for freshers who want to work with us ...   \n",
       "4  process associate sr process associate tech as...   \n",
       "\n",
       "                                         loc_cleaned  min_exp  max_exp  \n",
       "0                                          bengaluru        7       12  \n",
       "1                                    ahmedabad sola         0        5  \n",
       "2                                          bengaluru        3        6  \n",
       "3  delhi ncr chennai hyderabad gurgaon lucknow mu...        0        3  \n",
       "4                                          hyderabad        0        5  "
      ]
     },
     "execution_count": 27,
     "metadata": {},
     "output_type": "execute_result"
    }
   ],
   "source": [
    "data_test.head()"
   ]
  },
  {
   "cell_type": "code",
   "execution_count": 28,
   "metadata": {
    "execution": {
     "iopub.execute_input": "2020-10-09T13:41:33.392677Z",
     "iopub.status.busy": "2020-10-09T13:41:33.391888Z",
     "iopub.status.idle": "2020-10-09T13:41:33.394472Z",
     "shell.execute_reply": "2020-10-09T13:41:33.395059Z"
    },
    "papermill": {
     "duration": 0.088652,
     "end_time": "2020-10-09T13:41:33.395212",
     "exception": false,
     "start_time": "2020-10-09T13:41:33.306560",
     "status": "completed"
    },
    "tags": []
   },
   "outputs": [],
   "source": [
    "data_train = data_train.rename(columns = {'merged':'emp_info'},inplace = False)"
   ]
  },
  {
   "cell_type": "code",
   "execution_count": 29,
   "metadata": {
    "execution": {
     "iopub.execute_input": "2020-10-09T13:41:33.557388Z",
     "iopub.status.busy": "2020-10-09T13:41:33.556631Z",
     "iopub.status.idle": "2020-10-09T13:41:33.559524Z",
     "shell.execute_reply": "2020-10-09T13:41:33.560081Z"
    },
    "papermill": {
     "duration": 0.087677,
     "end_time": "2020-10-09T13:41:33.560243",
     "exception": false,
     "start_time": "2020-10-09T13:41:33.472566",
     "status": "completed"
    },
    "tags": []
   },
   "outputs": [],
   "source": [
    "data_test = data_test.rename(columns = {'merged':'emp_info'},inplace = False)"
   ]
  },
  {
   "cell_type": "code",
   "execution_count": 30,
   "metadata": {
    "execution": {
     "iopub.execute_input": "2020-10-09T13:41:33.727884Z",
     "iopub.status.busy": "2020-10-09T13:41:33.727111Z",
     "iopub.status.idle": "2020-10-09T13:41:33.774227Z",
     "shell.execute_reply": "2020-10-09T13:41:33.773598Z"
    },
    "papermill": {
     "duration": 0.135564,
     "end_time": "2020-10-09T13:41:33.774364",
     "exception": false,
     "start_time": "2020-10-09T13:41:33.638800",
     "status": "completed"
    },
    "tags": []
   },
   "outputs": [],
   "source": [
    "def min_sal(sal):\n",
    "    val = str(sal).split(\"to\")\n",
    "    return val[0]\n",
    "def max_sal(sal):\n",
    "    val = str(sal).split(\"to\")\n",
    "    return val[1]\n",
    "\n",
    "target = pd.DataFrame()\n",
    "target[\"min_sal\"] = df_train[\"salary\"].apply(lambda x: min_sal(x))\n",
    "target[\"max_sal\"] = df_train[\"salary\"].apply(lambda x: max_sal(x))\n",
    "target1 = target.min_sal\n",
    "target2 = target.max_sal"
   ]
  },
  {
   "cell_type": "code",
   "execution_count": 31,
   "metadata": {
    "execution": {
     "iopub.execute_input": "2020-10-09T13:41:33.944621Z",
     "iopub.status.busy": "2020-10-09T13:41:33.943722Z",
     "iopub.status.idle": "2020-10-09T13:41:33.948293Z",
     "shell.execute_reply": "2020-10-09T13:41:33.947674Z"
    },
    "papermill": {
     "duration": 0.095817,
     "end_time": "2020-10-09T13:41:33.948427",
     "exception": false,
     "start_time": "2020-10-09T13:41:33.852610",
     "status": "completed"
    },
    "tags": []
   },
   "outputs": [
    {
     "data": {
      "text/html": [
       "<div>\n",
       "<style scoped>\n",
       "    .dataframe tbody tr th:only-of-type {\n",
       "        vertical-align: middle;\n",
       "    }\n",
       "\n",
       "    .dataframe tbody tr th {\n",
       "        vertical-align: top;\n",
       "    }\n",
       "\n",
       "    .dataframe thead th {\n",
       "        text-align: right;\n",
       "    }\n",
       "</style>\n",
       "<table border=\"1\" class=\"dataframe\">\n",
       "  <thead>\n",
       "    <tr style=\"text-align: right;\">\n",
       "      <th></th>\n",
       "      <th>min_sal</th>\n",
       "      <th>max_sal</th>\n",
       "    </tr>\n",
       "  </thead>\n",
       "  <tbody>\n",
       "    <tr>\n",
       "      <th>0</th>\n",
       "      <td>6</td>\n",
       "      <td>10</td>\n",
       "    </tr>\n",
       "    <tr>\n",
       "      <th>1</th>\n",
       "      <td>10</td>\n",
       "      <td>15</td>\n",
       "    </tr>\n",
       "    <tr>\n",
       "      <th>2</th>\n",
       "      <td>15</td>\n",
       "      <td>25</td>\n",
       "    </tr>\n",
       "    <tr>\n",
       "      <th>3</th>\n",
       "      <td>10</td>\n",
       "      <td>15</td>\n",
       "    </tr>\n",
       "    <tr>\n",
       "      <th>4</th>\n",
       "      <td>3</td>\n",
       "      <td>6</td>\n",
       "    </tr>\n",
       "  </tbody>\n",
       "</table>\n",
       "</div>"
      ],
      "text/plain": [
       "  min_sal max_sal\n",
       "0       6      10\n",
       "1      10      15\n",
       "2      15      25\n",
       "3      10      15\n",
       "4       3       6"
      ]
     },
     "execution_count": 31,
     "metadata": {},
     "output_type": "execute_result"
    }
   ],
   "source": [
    "target.head()"
   ]
  },
  {
   "cell_type": "code",
   "execution_count": 32,
   "metadata": {
    "execution": {
     "iopub.execute_input": "2020-10-09T13:41:34.117037Z",
     "iopub.status.busy": "2020-10-09T13:41:34.116235Z",
     "iopub.status.idle": "2020-10-09T13:41:35.358999Z",
     "shell.execute_reply": "2020-10-09T13:41:35.358183Z"
    },
    "papermill": {
     "duration": 1.329427,
     "end_time": "2020-10-09T13:41:35.359137",
     "exception": false,
     "start_time": "2020-10-09T13:41:34.029710",
     "status": "completed"
    },
    "tags": []
   },
   "outputs": [],
   "source": [
    "import matplotlib.pyplot as plt\n",
    "import seaborn as sns\n",
    "\n"
   ]
  },
  {
   "cell_type": "markdown",
   "metadata": {
    "papermill": {
     "duration": 0.082575,
     "end_time": "2020-10-09T13:41:35.522403",
     "exception": false,
     "start_time": "2020-10-09T13:41:35.439828",
     "status": "completed"
    },
    "tags": []
   },
   "source": [
    "# EDA"
   ]
  },
  {
   "cell_type": "markdown",
   "metadata": {
    "papermill": {
     "duration": 0.079945,
     "end_time": "2020-10-09T13:41:35.681417",
     "exception": false,
     "start_time": "2020-10-09T13:41:35.601472",
     "status": "completed"
    },
    "tags": []
   },
   "source": []
  },
  {
   "cell_type": "code",
   "execution_count": 33,
   "metadata": {
    "execution": {
     "iopub.execute_input": "2020-10-09T13:41:35.848852Z",
     "iopub.status.busy": "2020-10-09T13:41:35.848068Z",
     "iopub.status.idle": "2020-10-09T13:41:35.851846Z",
     "shell.execute_reply": "2020-10-09T13:41:35.852532Z"
    },
    "papermill": {
     "duration": 0.090911,
     "end_time": "2020-10-09T13:41:35.852718",
     "exception": false,
     "start_time": "2020-10-09T13:41:35.761807",
     "status": "completed"
    },
    "tags": []
   },
   "outputs": [],
   "source": [
    "def get_ax(rows = 1,cols = 2,size = 7):\n",
    "    fig, ax = plt.subplots(rows, cols, figsize=(size*cols, size*rows))\n",
    "    return fig,ax"
   ]
  },
  {
   "cell_type": "code",
   "execution_count": 34,
   "metadata": {
    "execution": {
     "iopub.execute_input": "2020-10-09T13:41:36.022477Z",
     "iopub.status.busy": "2020-10-09T13:41:36.021594Z",
     "iopub.status.idle": "2020-10-09T13:41:36.710965Z",
     "shell.execute_reply": "2020-10-09T13:41:36.710153Z"
    },
    "papermill": {
     "duration": 0.778111,
     "end_time": "2020-10-09T13:41:36.711115",
     "exception": false,
     "start_time": "2020-10-09T13:41:35.933004",
     "status": "completed"
    },
    "tags": []
   },
   "outputs": [
    {
     "data": {
      "text/plain": [
       "<matplotlib.axes._subplots.AxesSubplot at 0x7fc2fe683210>"
      ]
     },
     "execution_count": 34,
     "metadata": {},
     "output_type": "execute_result"
    },
    {
     "data": {
      "image/png": "[encoded data removed]",
      "text/plain": [
       "<Figure size 1008x504 with 2 Axes>"
      ]
     },
     "metadata": {
      "needs_background": "light"
     },
     "output_type": "display_data"
    }
   ],
   "source": [
    "fig,ax = get_ax()\n",
    "sns.distplot(data_train[\"emp_info\"].str.len(),ax = ax[0])\n",
    "sns.distplot(data_test[\"emp_info\"].str.len(),ax = ax[1])"
   ]
  },
  {
   "cell_type": "code",
   "execution_count": 35,
   "metadata": {
    "execution": {
     "iopub.execute_input": "2020-10-09T13:41:36.884664Z",
     "iopub.status.busy": "2020-10-09T13:41:36.883882Z",
     "iopub.status.idle": "2020-10-09T13:41:36.906194Z",
     "shell.execute_reply": "2020-10-09T13:41:36.905461Z"
    },
    "papermill": {
     "duration": 0.112513,
     "end_time": "2020-10-09T13:41:36.906330",
     "exception": false,
     "start_time": "2020-10-09T13:41:36.793817",
     "status": "completed"
    },
    "tags": []
   },
   "outputs": [
    {
     "data": {
      "text/plain": [
       "emp_info       13687\n",
       "loc_cleaned     1414\n",
       "min_exp           22\n",
       "max_exp           29\n",
       "dtype: int64"
      ]
     },
     "execution_count": 35,
     "metadata": {},
     "output_type": "execute_result"
    }
   ],
   "source": [
    "data_train.nunique()"
   ]
  },
  {
   "cell_type": "markdown",
   "metadata": {
    "papermill": {
     "duration": 0.083422,
     "end_time": "2020-10-09T13:41:37.073446",
     "exception": false,
     "start_time": "2020-10-09T13:41:36.990024",
     "status": "completed"
    },
    "tags": []
   },
   "source": [
    "Distribution of the min experience and maximum experience. "
   ]
  },
  {
   "cell_type": "code",
   "execution_count": 36,
   "metadata": {
    "execution": {
     "iopub.execute_input": "2020-10-09T13:41:37.254403Z",
     "iopub.status.busy": "2020-10-09T13:41:37.252705Z",
     "iopub.status.idle": "2020-10-09T13:41:38.224699Z",
     "shell.execute_reply": "2020-10-09T13:41:38.224063Z"
    },
    "papermill": {
     "duration": 1.069066,
     "end_time": "2020-10-09T13:41:38.224829",
     "exception": false,
     "start_time": "2020-10-09T13:41:37.155763",
     "status": "completed"
    },
    "tags": []
   },
   "outputs": [
    {
     "data": {
      "text/plain": [
       "<matplotlib.axes._subplots.AxesSubplot at 0x7fc2fe498150>"
      ]
     },
     "execution_count": 36,
     "metadata": {},
     "output_type": "execute_result"
    },
    {
     "data": {
      "image/png": "[encoded data removed]",
      "text/plain": [
       "<Figure size 1008x504 with 2 Axes>"
      ]
     },
     "metadata": {
      "needs_background": "light"
     },
     "output_type": "display_data"
    }
   ],
   "source": [
    "fig,ax = get_ax()\n",
    "\n",
    "sns.distplot(data_train.min_exp,ax = ax[0])\n",
    "sns.distplot(data_train.max_exp,ax = ax[0])\n",
    "\n",
    "\n",
    "sns.distplot(data_test.min_exp,ax = ax[1])\n",
    "sns.distplot(data_test.max_exp,ax = ax[1])"
   ]
  },
  {
   "cell_type": "code",
   "execution_count": 37,
   "metadata": {
    "execution": {
     "iopub.execute_input": "2020-10-09T13:41:38.416360Z",
     "iopub.status.busy": "2020-10-09T13:41:38.403395Z",
     "iopub.status.idle": "2020-10-09T13:41:38.713568Z",
     "shell.execute_reply": "2020-10-09T13:41:38.714290Z"
    },
    "papermill": {
     "duration": 0.403647,
     "end_time": "2020-10-09T13:41:38.714447",
     "exception": false,
     "start_time": "2020-10-09T13:41:38.310800",
     "status": "completed"
    },
    "tags": []
   },
   "outputs": [
    {
     "data": {
      "text/plain": [
       "<matplotlib.axes._subplots.AxesSubplot at 0x7fc2fe13d1d0>"
      ]
     },
     "execution_count": 37,
     "metadata": {},
     "output_type": "execute_result"
    },
    {
     "data": {
      "image/png": "[encoded data removed]",
      "text/plain": [
       "<Figure size 432x288 with 1 Axes>"
      ]
     },
     "metadata": {
      "needs_background": "light"
     },
     "output_type": "display_data"
    }
   ],
   "source": [
    "sns.distplot(data_train.max_exp-data_train.min_exp)"
   ]
  },
  {
   "cell_type": "code",
   "execution_count": 38,
   "metadata": {
    "execution": {
     "iopub.execute_input": "2020-10-09T13:41:38.912883Z",
     "iopub.status.busy": "2020-10-09T13:41:38.911947Z",
     "iopub.status.idle": "2020-10-09T13:41:39.834400Z",
     "shell.execute_reply": "2020-10-09T13:41:39.834997Z"
    },
    "papermill": {
     "duration": 1.025882,
     "end_time": "2020-10-09T13:41:39.835153",
     "exception": false,
     "start_time": "2020-10-09T13:41:38.809271",
     "status": "completed"
    },
    "tags": []
   },
   "outputs": [
    {
     "data": {
      "image/png": "[encoded data removed]",
      "text/plain": [
       "<Figure size 720x720 with 1 Axes>"
      ]
     },
     "metadata": {
      "needs_background": "light"
     },
     "output_type": "display_data"
    }
   ],
   "source": [
    "\n",
    "from wordcloud import WordCloud\n",
    "def wordcloud(data):\n",
    "    wordcloud = WordCloud(background_color = 'Black',\n",
    "                         max_words = 50,\n",
    "                         max_font_size = 40,\n",
    "                         scale = 5,\n",
    "                         random_state = 5).generate(str(data))\n",
    "    fig = plt.figure(1, figsize=(10,10))\n",
    "    plt.imshow(wordcloud)\n",
    "    plt.axis(\"off\")\n",
    "    plt.show()\n",
    "wordcloud(data_train[\"emp_info\"]) "
   ]
  },
  {
   "cell_type": "code",
   "execution_count": 39,
   "metadata": {
    "execution": {
     "iopub.execute_input": "2020-10-09T13:41:40.032060Z",
     "iopub.status.busy": "2020-10-09T13:41:40.026178Z",
     "iopub.status.idle": "2020-10-09T13:41:40.844760Z",
     "shell.execute_reply": "2020-10-09T13:41:40.845372Z"
    },
    "papermill": {
     "duration": 0.921255,
     "end_time": "2020-10-09T13:41:40.845536",
     "exception": false,
     "start_time": "2020-10-09T13:41:39.924281",
     "status": "completed"
    },
    "tags": []
   },
   "outputs": [
    {
     "data": {
      "image/png": "[encoded data removed]",
      "text/plain": [
       "<Figure size 720x720 with 1 Axes>"
      ]
     },
     "metadata": {
      "needs_background": "light"
     },
     "output_type": "display_data"
    }
   ],
   "source": [
    "from wordcloud import WordCloud\n",
    "def wordcloud(data):\n",
    "    wordcloud = WordCloud(background_color = 'Black',\n",
    "                         max_words = 50,\n",
    "                         max_font_size = 40,\n",
    "                         scale = 5,\n",
    "                         random_state = 5).generate(str(data))\n",
    "    fig = plt.figure(1, figsize=(10,10))\n",
    "    plt.imshow(wordcloud)\n",
    "    plt.axis(\"off\")\n",
    "    plt.show()\n",
    "wordcloud(data_test[\"emp_info\"]) "
   ]
  },
  {
   "cell_type": "code",
   "execution_count": 40,
   "metadata": {
    "execution": {
     "iopub.execute_input": "2020-10-09T13:41:41.050546Z",
     "iopub.status.busy": "2020-10-09T13:41:41.049360Z",
     "iopub.status.idle": "2020-10-09T13:41:41.056044Z",
     "shell.execute_reply": "2020-10-09T13:41:41.055303Z"
    },
    "papermill": {
     "duration": 0.117153,
     "end_time": "2020-10-09T13:41:41.056180",
     "exception": false,
     "start_time": "2020-10-09T13:41:40.939027",
     "status": "completed"
    },
    "tags": []
   },
   "outputs": [
    {
     "data": {
      "text/html": [
       "<div>\n",
       "<style scoped>\n",
       "    .dataframe tbody tr th:only-of-type {\n",
       "        vertical-align: middle;\n",
       "    }\n",
       "\n",
       "    .dataframe tbody tr th {\n",
       "        vertical-align: top;\n",
       "    }\n",
       "\n",
       "    .dataframe thead th {\n",
       "        text-align: right;\n",
       "    }\n",
       "</style>\n",
       "<table border=\"1\" class=\"dataframe\">\n",
       "  <thead>\n",
       "    <tr style=\"text-align: right;\">\n",
       "      <th></th>\n",
       "      <th>emp_info</th>\n",
       "      <th>loc_cleaned</th>\n",
       "      <th>min_exp</th>\n",
       "      <th>max_exp</th>\n",
       "    </tr>\n",
       "  </thead>\n",
       "  <tbody>\n",
       "    <tr>\n",
       "      <th>0</th>\n",
       "      <td>senior exploit and vulnerability researcher ex...</td>\n",
       "      <td>delhi ncr vikas puri</td>\n",
       "      <td>5</td>\n",
       "      <td>7</td>\n",
       "    </tr>\n",
       "    <tr>\n",
       "      <th>1</th>\n",
       "      <td>head scm he should have handled a team of atle...</td>\n",
       "      <td>sonepat</td>\n",
       "      <td>10</td>\n",
       "      <td>17</td>\n",
       "    </tr>\n",
       "    <tr>\n",
       "      <th>2</th>\n",
       "      <td>deputy manager talent management leadership de...</td>\n",
       "      <td>delhi ncr</td>\n",
       "      <td>5</td>\n",
       "      <td>9</td>\n",
       "    </tr>\n",
       "    <tr>\n",
       "      <th>3</th>\n",
       "      <td>associate manager data engineering  years of o...</td>\n",
       "      <td>bengaluru</td>\n",
       "      <td>7</td>\n",
       "      <td>10</td>\n",
       "    </tr>\n",
       "    <tr>\n",
       "      <th>4</th>\n",
       "      <td>ts gsa senior analyst chartered accountancy de...</td>\n",
       "      <td>gurgaon</td>\n",
       "      <td>1</td>\n",
       "      <td>3</td>\n",
       "    </tr>\n",
       "  </tbody>\n",
       "</table>\n",
       "</div>"
      ],
      "text/plain": [
       "                                            emp_info            loc_cleaned  \\\n",
       "0  senior exploit and vulnerability researcher ex...  delhi ncr vikas puri    \n",
       "1  head scm he should have handled a team of atle...                sonepat   \n",
       "2  deputy manager talent management leadership de...              delhi ncr   \n",
       "3  associate manager data engineering  years of o...              bengaluru   \n",
       "4  ts gsa senior analyst chartered accountancy de...                gurgaon   \n",
       "\n",
       "   min_exp  max_exp  \n",
       "0        5        7  \n",
       "1       10       17  \n",
       "2        5        9  \n",
       "3        7       10  \n",
       "4        1        3  "
      ]
     },
     "execution_count": 40,
     "metadata": {},
     "output_type": "execute_result"
    }
   ],
   "source": [
    "data_train.head()"
   ]
  },
  {
   "cell_type": "markdown",
   "metadata": {
    "papermill": {
     "duration": 0.095713,
     "end_time": "2020-10-09T13:41:41.249748",
     "exception": false,
     "start_time": "2020-10-09T13:41:41.154035",
     "status": "completed"
    },
    "tags": []
   },
   "source": [
    "# MODELLING"
   ]
  },
  {
   "cell_type": "code",
   "execution_count": 41,
   "metadata": {
    "execution": {
     "iopub.execute_input": "2020-10-09T13:41:41.445967Z",
     "iopub.status.busy": "2020-10-09T13:41:41.445210Z",
     "iopub.status.idle": "2020-10-09T13:41:41.546555Z",
     "shell.execute_reply": "2020-10-09T13:41:41.545899Z"
    },
    "papermill": {
     "duration": 0.201544,
     "end_time": "2020-10-09T13:41:41.546691",
     "exception": false,
     "start_time": "2020-10-09T13:41:41.345147",
     "status": "completed"
    },
    "tags": []
   },
   "outputs": [],
   "source": [
    "from sklearn.preprocessing import LabelEncoder\n",
    "le = LabelEncoder()\n",
    "train['salary'] = le.fit_transform(train['salary'])"
   ]
  },
  {
   "cell_type": "code",
   "execution_count": 42,
   "metadata": {
    "execution": {
     "iopub.execute_input": "2020-10-09T13:41:41.744074Z",
     "iopub.status.busy": "2020-10-09T13:41:41.743148Z",
     "iopub.status.idle": "2020-10-09T13:41:41.834014Z",
     "shell.execute_reply": "2020-10-09T13:41:41.833394Z"
    },
    "papermill": {
     "duration": 0.193066,
     "end_time": "2020-10-09T13:41:41.834148",
     "exception": false,
     "start_time": "2020-10-09T13:41:41.641082",
     "status": "completed"
    },
    "tags": []
   },
   "outputs": [],
   "source": [
    "from sklearn.model_selection import train_test_split\n",
    "\n",
    "X_train, X_cv, y_train, y_cv = train_test_split(\n",
    "    data_train,train['salary'], test_size=0.20, \n",
    "    stratify=train['salary'], random_state=75)"
   ]
  },
  {
   "cell_type": "code",
   "execution_count": 43,
   "metadata": {
    "execution": {
     "iopub.execute_input": "2020-10-09T13:41:42.032506Z",
     "iopub.status.busy": "2020-10-09T13:41:42.031546Z",
     "iopub.status.idle": "2020-10-09T13:41:42.036737Z",
     "shell.execute_reply": "2020-10-09T13:41:42.035658Z"
    },
    "papermill": {
     "duration": 0.109055,
     "end_time": "2020-10-09T13:41:42.036917",
     "exception": false,
     "start_time": "2020-10-09T13:41:41.927862",
     "status": "completed"
    },
    "tags": []
   },
   "outputs": [
    {
     "name": "stdout",
     "output_type": "stream",
     "text": [
      "No. of sample texts X_train:  15840\n",
      "No. of sample texts X_cv   :  3961\n"
     ]
    }
   ],
   "source": [
    "print('No. of sample texts X_train: ', len(X_train))\n",
    "print('No. of sample texts X_cv   : ', len(X_cv))\n"
   ]
  },
  {
   "cell_type": "markdown",
   "metadata": {
    "papermill": {
     "duration": 0.097275,
     "end_time": "2020-10-09T13:41:42.237395",
     "exception": false,
     "start_time": "2020-10-09T13:41:42.140120",
     "status": "completed"
    },
    "tags": []
   },
   "source": [
    "Creating separate column values to encode them accordingly."
   ]
  },
  {
   "cell_type": "code",
   "execution_count": 44,
   "metadata": {
    "execution": {
     "iopub.execute_input": "2020-10-09T13:41:42.436012Z",
     "iopub.status.busy": "2020-10-09T13:41:42.434887Z",
     "iopub.status.idle": "2020-10-09T13:41:42.439191Z",
     "shell.execute_reply": "2020-10-09T13:41:42.438306Z"
    },
    "papermill": {
     "duration": 0.105236,
     "end_time": "2020-10-09T13:41:42.439335",
     "exception": false,
     "start_time": "2020-10-09T13:41:42.334099",
     "status": "completed"
    },
    "tags": []
   },
   "outputs": [],
   "source": [
    "X_train_merged = X_train['emp_info']\n",
    "X_train_loc = X_train['loc_cleaned']\n",
    "\n",
    "X_cv_merged = X_cv['emp_info']\n",
    "X_cv_loc = X_cv['loc_cleaned']"
   ]
  },
  {
   "cell_type": "markdown",
   "metadata": {
    "papermill": {
     "duration": 0.095483,
     "end_time": "2020-10-09T13:41:42.632573",
     "exception": false,
     "start_time": "2020-10-09T13:41:42.537090",
     "status": "completed"
    },
    "tags": []
   },
   "source": [
    "Encoding text column(merged) using TF-IDF vectorizer"
   ]
  },
  {
   "cell_type": "code",
   "execution_count": 45,
   "metadata": {
    "execution": {
     "iopub.execute_input": "2020-10-09T13:41:42.832345Z",
     "iopub.status.busy": "2020-10-09T13:41:42.831347Z",
     "iopub.status.idle": "2020-10-09T13:41:45.602340Z",
     "shell.execute_reply": "2020-10-09T13:41:45.601552Z"
    },
    "papermill": {
     "duration": 2.875134,
     "end_time": "2020-10-09T13:41:45.602473",
     "exception": false,
     "start_time": "2020-10-09T13:41:42.727339",
     "status": "completed"
    },
    "tags": []
   },
   "outputs": [],
   "source": [
    "from sklearn.feature_extraction.text import TfidfVectorizer, CountVectorizer\n",
    "tf1 = TfidfVectorizer(min_df=3, token_pattern=r'\\w{3,}', ngram_range=(1,3), max_df=0.9)\n",
    "tf2 = TfidfVectorizer(min_df=2, token_pattern=r'\\w{3,}')\n",
    "\n",
    "X_train_merged = tf1.fit_transform(X_train_merged)\n",
    "X_train_loc = tf2.fit_transform(X_train_loc)\n",
    "\n",
    "X_cv_merged = tf1.transform(X_cv_merged)\n",
    "X_cv_loc = tf2.transform(X_cv_loc)\n",
    "# X_cv_merged"
   ]
  },
  {
   "cell_type": "markdown",
   "metadata": {
    "papermill": {
     "duration": 0.094521,
     "end_time": "2020-10-09T13:41:45.793546",
     "exception": false,
     "start_time": "2020-10-09T13:41:45.699025",
     "status": "completed"
    },
    "tags": []
   },
   "source": [
    "In this kernel I will be standardizing only the experience columns but please try to standardize all the numerical features and convert them into sparsematrix then stack them horizontally as proceeded further for better results."
   ]
  },
  {
   "cell_type": "code",
   "execution_count": 46,
   "metadata": {
    "execution": {
     "iopub.execute_input": "2020-10-09T13:41:45.998249Z",
     "iopub.status.busy": "2020-10-09T13:41:45.997351Z",
     "iopub.status.idle": "2020-10-09T13:41:46.009396Z",
     "shell.execute_reply": "2020-10-09T13:41:46.008579Z"
    },
    "papermill": {
     "duration": 0.119599,
     "end_time": "2020-10-09T13:41:46.009528",
     "exception": false,
     "start_time": "2020-10-09T13:41:45.889929",
     "status": "completed"
    },
    "tags": []
   },
   "outputs": [],
   "source": [
    "from scipy import sparse\n",
    "from sklearn.preprocessing import StandardScaler\n",
    "\n",
    "sc1 = StandardScaler()\n",
    "X_train_MinExp = sc1.fit_transform(np.array(X_train['min_exp']).reshape(-1,1))\n",
    "X_cv_MinExp = sc1.transform(np.array(X_cv['min_exp']).reshape(-1,1))\n",
    "X_train_MinExp = sparse.csr_matrix(X_train_MinExp)\n",
    "X_cv_MinExp = sparse.csr_matrix(X_cv_MinExp)\n",
    "\n",
    "sc2 = StandardScaler()\n",
    "X_train_MaxExp = sc2.fit_transform(np.array(X_train['max_exp']).reshape(-1,1))\n",
    "X_cv_MaxExp = sc2.transform(np.array(X_cv['max_exp']).reshape(-1,1))\n",
    "X_train_MaxExp = sparse.csr_matrix(X_train_MaxExp)\n",
    "X_cv_MaxExp = sparse.csr_matrix(X_cv_MaxExp)"
   ]
  },
  {
   "cell_type": "code",
   "execution_count": 47,
   "metadata": {
    "execution": {
     "iopub.execute_input": "2020-10-09T13:41:46.209744Z",
     "iopub.status.busy": "2020-10-09T13:41:46.208911Z",
     "iopub.status.idle": "2020-10-09T13:41:46.236327Z",
     "shell.execute_reply": "2020-10-09T13:41:46.236882Z"
    },
    "papermill": {
     "duration": 0.130323,
     "end_time": "2020-10-09T13:41:46.237083",
     "exception": false,
     "start_time": "2020-10-09T13:41:46.106760",
     "status": "completed"
    },
    "tags": []
   },
   "outputs": [],
   "source": [
    "from scipy.sparse import hstack, csr_matrix\n",
    "\n",
    "merged_train = hstack((X_train_merged, X_train_loc, X_train_MinExp, X_train_MaxExp))\n",
    "merged_cv  = hstack((X_cv_merged, X_cv_loc, X_cv_MinExp, X_cv_MaxExp))"
   ]
  },
  {
   "cell_type": "code",
   "execution_count": 48,
   "metadata": {
    "execution": {
     "iopub.execute_input": "2020-10-09T13:41:46.435791Z",
     "iopub.status.busy": "2020-10-09T13:41:46.434716Z",
     "iopub.status.idle": "2020-10-09T13:41:46.440052Z",
     "shell.execute_reply": "2020-10-09T13:41:46.439278Z"
    },
    "papermill": {
     "duration": 0.107268,
     "end_time": "2020-10-09T13:41:46.440178",
     "exception": false,
     "start_time": "2020-10-09T13:41:46.332910",
     "status": "completed"
    },
    "tags": []
   },
   "outputs": [
    {
     "data": {
      "text/plain": [
       "((15840, 52320), (3961, 52320))"
      ]
     },
     "execution_count": 48,
     "metadata": {},
     "output_type": "execute_result"
    }
   ],
   "source": [
    "merged_train.shape, merged_cv.shape\n"
   ]
  },
  {
   "cell_type": "code",
   "execution_count": 49,
   "metadata": {
    "execution": {
     "iopub.execute_input": "2020-10-09T13:41:46.640673Z",
     "iopub.status.busy": "2020-10-09T13:41:46.639630Z",
     "iopub.status.idle": "2020-10-09T13:41:46.643347Z",
     "shell.execute_reply": "2020-10-09T13:41:46.642716Z"
    },
    "papermill": {
     "duration": 0.10659,
     "end_time": "2020-10-09T13:41:46.643494",
     "exception": false,
     "start_time": "2020-10-09T13:41:46.536904",
     "status": "completed"
    },
    "tags": []
   },
   "outputs": [],
   "source": [
    "from sklearn.metrics import accuracy_score, classification_report, confusion_matrix\n"
   ]
  },
  {
   "cell_type": "code",
   "execution_count": 50,
   "metadata": {
    "execution": {
     "iopub.execute_input": "2020-10-09T13:41:46.843534Z",
     "iopub.status.busy": "2020-10-09T13:41:46.842603Z",
     "iopub.status.idle": "2020-10-09T13:41:46.891330Z",
     "shell.execute_reply": "2020-10-09T13:41:46.890510Z"
    },
    "papermill": {
     "duration": 0.151245,
     "end_time": "2020-10-09T13:41:46.891463",
     "exception": false,
     "start_time": "2020-10-09T13:41:46.740218",
     "status": "completed"
    },
    "tags": []
   },
   "outputs": [],
   "source": [
    "import lightgbm as lgb\n",
    "train_data = lgb.Dataset(merged_train, label=y_train)\n",
    "test_data = lgb.Dataset(merged_cv, label=y_cv)"
   ]
  },
  {
   "cell_type": "markdown",
   "metadata": {
    "papermill": {
     "duration": 0.100491,
     "end_time": "2020-10-09T13:41:47.089549",
     "exception": false,
     "start_time": "2020-10-09T13:41:46.989058",
     "status": "completed"
    },
    "tags": []
   },
   "source": [
    "You can apply any Hyperparamter tuning tech to obtain the optimal parameters but I have chosen according to my past tuning parameters...Do try to model with different set of params."
   ]
  },
  {
   "cell_type": "code",
   "execution_count": 51,
   "metadata": {
    "execution": {
     "iopub.execute_input": "2020-10-09T13:41:47.292617Z",
     "iopub.status.busy": "2020-10-09T13:41:47.291630Z",
     "iopub.status.idle": "2020-10-09T13:41:47.294529Z",
     "shell.execute_reply": "2020-10-09T13:41:47.295086Z"
    },
    "papermill": {
     "duration": 0.108099,
     "end_time": "2020-10-09T13:41:47.295251",
     "exception": false,
     "start_time": "2020-10-09T13:41:47.187152",
     "status": "completed"
    },
    "tags": []
   },
   "outputs": [],
   "source": [
    "param = {'objective': 'multiclass',\n",
    "         'num_iterations': 80,\n",
    "         'learning_rate': 0.04,  \n",
    "         'num_leaves': 23,\n",
    "         'max_depth': 7, \n",
    "         'min_data_in_leaf': 28, \n",
    "         'max_bin': 10, \n",
    "         'min_data_in_bin': 3,   \n",
    "         'num_class': 6,\n",
    "         'metric': 'multi_logloss'\n",
    "         }"
   ]
  },
  {
   "cell_type": "code",
   "execution_count": 52,
   "metadata": {
    "execution": {
     "iopub.execute_input": "2020-10-09T13:41:47.494691Z",
     "iopub.status.busy": "2020-10-09T13:41:47.493867Z",
     "iopub.status.idle": "2020-10-09T13:41:54.985354Z",
     "shell.execute_reply": "2020-10-09T13:41:54.986142Z"
    },
    "papermill": {
     "duration": 7.594533,
     "end_time": "2020-10-09T13:41:54.986340",
     "exception": false,
     "start_time": "2020-10-09T13:41:47.391807",
     "status": "completed"
    },
    "tags": []
   },
   "outputs": [
    {
     "name": "stderr",
     "output_type": "stream",
     "text": [
      "/opt/conda/lib/python3.7/site-packages/lightgbm/engine.py:148: UserWarning: Found `num_iterations` in params. Will use it instead of argument\n",
      "  warnings.warn(\"Found `{}` in params. Will use it instead of argument\".format(alias))\n"
     ]
    },
    {
     "name": "stdout",
     "output_type": "stream",
     "text": [
      "[1]\tvalid_0's multi_logloss: 1.72184\n",
      "[2]\tvalid_0's multi_logloss: 1.69929\n",
      "[3]\tvalid_0's multi_logloss: 1.67832\n",
      "[4]\tvalid_0's multi_logloss: 1.6593\n",
      "[5]\tvalid_0's multi_logloss: 1.64141\n",
      "[6]\tvalid_0's multi_logloss: 1.6247\n",
      "[7]\tvalid_0's multi_logloss: 1.60886\n",
      "[8]\tvalid_0's multi_logloss: 1.59421\n",
      "[9]\tvalid_0's multi_logloss: 1.58002\n",
      "[10]\tvalid_0's multi_logloss: 1.56688\n",
      "[11]\tvalid_0's multi_logloss: 1.55428\n",
      "[12]\tvalid_0's multi_logloss: 1.54221\n",
      "[13]\tvalid_0's multi_logloss: 1.53094\n",
      "[14]\tvalid_0's multi_logloss: 1.51994\n",
      "[15]\tvalid_0's multi_logloss: 1.50985\n",
      "[16]\tvalid_0's multi_logloss: 1.49992\n",
      "[17]\tvalid_0's multi_logloss: 1.49045\n",
      "[18]\tvalid_0's multi_logloss: 1.48158\n",
      "[19]\tvalid_0's multi_logloss: 1.47276\n",
      "[20]\tvalid_0's multi_logloss: 1.4645\n",
      "[21]\tvalid_0's multi_logloss: 1.45651\n",
      "[22]\tvalid_0's multi_logloss: 1.44898\n",
      "[23]\tvalid_0's multi_logloss: 1.44183\n",
      "[24]\tvalid_0's multi_logloss: 1.43485\n",
      "[25]\tvalid_0's multi_logloss: 1.42782\n",
      "[26]\tvalid_0's multi_logloss: 1.42127\n",
      "[27]\tvalid_0's multi_logloss: 1.41492\n",
      "[28]\tvalid_0's multi_logloss: 1.40885\n",
      "[29]\tvalid_0's multi_logloss: 1.40303\n",
      "[30]\tvalid_0's multi_logloss: 1.39768\n",
      "[31]\tvalid_0's multi_logloss: 1.39232\n",
      "[32]\tvalid_0's multi_logloss: 1.38718\n",
      "[33]\tvalid_0's multi_logloss: 1.3822\n",
      "[34]\tvalid_0's multi_logloss: 1.37742\n",
      "[35]\tvalid_0's multi_logloss: 1.37269\n",
      "[36]\tvalid_0's multi_logloss: 1.36806\n",
      "[37]\tvalid_0's multi_logloss: 1.36376\n",
      "[38]\tvalid_0's multi_logloss: 1.35928\n",
      "[39]\tvalid_0's multi_logloss: 1.35522\n",
      "[40]\tvalid_0's multi_logloss: 1.35137\n",
      "[41]\tvalid_0's multi_logloss: 1.34747\n",
      "[42]\tvalid_0's multi_logloss: 1.34364\n",
      "[43]\tvalid_0's multi_logloss: 1.34009\n",
      "[44]\tvalid_0's multi_logloss: 1.33673\n",
      "[45]\tvalid_0's multi_logloss: 1.33354\n",
      "[46]\tvalid_0's multi_logloss: 1.33048\n",
      "[47]\tvalid_0's multi_logloss: 1.32741\n",
      "[48]\tvalid_0's multi_logloss: 1.32441\n",
      "[49]\tvalid_0's multi_logloss: 1.32165\n",
      "[50]\tvalid_0's multi_logloss: 1.31868\n",
      "[51]\tvalid_0's multi_logloss: 1.31585\n",
      "[52]\tvalid_0's multi_logloss: 1.31326\n",
      "[53]\tvalid_0's multi_logloss: 1.31081\n",
      "[54]\tvalid_0's multi_logloss: 1.30827\n",
      "[55]\tvalid_0's multi_logloss: 1.30594\n",
      "[56]\tvalid_0's multi_logloss: 1.30348\n",
      "[57]\tvalid_0's multi_logloss: 1.30126\n",
      "[58]\tvalid_0's multi_logloss: 1.29919\n",
      "[59]\tvalid_0's multi_logloss: 1.29715\n",
      "[60]\tvalid_0's multi_logloss: 1.29503\n",
      "[61]\tvalid_0's multi_logloss: 1.29291\n",
      "[62]\tvalid_0's multi_logloss: 1.29115\n",
      "[63]\tvalid_0's multi_logloss: 1.28902\n",
      "[64]\tvalid_0's multi_logloss: 1.28714\n",
      "[65]\tvalid_0's multi_logloss: 1.28533\n",
      "[66]\tvalid_0's multi_logloss: 1.28357\n",
      "[67]\tvalid_0's multi_logloss: 1.28189\n",
      "[68]\tvalid_0's multi_logloss: 1.28032\n",
      "[69]\tvalid_0's multi_logloss: 1.27877\n",
      "[70]\tvalid_0's multi_logloss: 1.27712\n",
      "[71]\tvalid_0's multi_logloss: 1.27551\n",
      "[72]\tvalid_0's multi_logloss: 1.27406\n",
      "[73]\tvalid_0's multi_logloss: 1.27275\n",
      "[74]\tvalid_0's multi_logloss: 1.27137\n",
      "[75]\tvalid_0's multi_logloss: 1.26996\n",
      "[76]\tvalid_0's multi_logloss: 1.26855\n",
      "[77]\tvalid_0's multi_logloss: 1.2672\n",
      "[78]\tvalid_0's multi_logloss: 1.26594\n",
      "[79]\tvalid_0's multi_logloss: 1.26451\n",
      "[80]\tvalid_0's multi_logloss: 1.26332\n"
     ]
    },
    {
     "name": "stderr",
     "output_type": "stream",
     "text": [
      "/opt/conda/lib/python3.7/site-packages/lightgbm/basic.py:546: UserWarning: Converting data to scipy sparse matrix.\n",
      "  warnings.warn('Converting data to scipy sparse matrix.')\n"
     ]
    }
   ],
   "source": [
    "lgbm = lgb.train(params=param,\n",
    "                 train_set=train_data,\n",
    "                 num_boost_round=100,\n",
    "                 valid_sets=[test_data])\n",
    "\n",
    "y_pred_class = lgbm.predict(merged_cv)"
   ]
  },
  {
   "cell_type": "code",
   "execution_count": 53,
   "metadata": {
    "execution": {
     "iopub.execute_input": "2020-10-09T13:41:55.265787Z",
     "iopub.status.busy": "2020-10-09T13:41:55.265029Z",
     "iopub.status.idle": "2020-10-09T13:41:55.268548Z",
     "shell.execute_reply": "2020-10-09T13:41:55.267856Z"
    },
    "papermill": {
     "duration": 0.14247,
     "end_time": "2020-10-09T13:41:55.268676",
     "exception": false,
     "start_time": "2020-10-09T13:41:55.126206",
     "status": "completed"
    },
    "tags": []
   },
   "outputs": [],
   "source": [
    "X_train_merged = data_train['emp_info']\n",
    "X_train_loc = data_train['loc_cleaned']\n",
    "\n",
    "X_test_merged = data_test['emp_info']\n",
    "X_test_loc = data_test['loc_cleaned']\n",
    "\n",
    "y_train = train['salary']"
   ]
  },
  {
   "cell_type": "code",
   "execution_count": 54,
   "metadata": {
    "execution": {
     "iopub.execute_input": "2020-10-09T13:41:55.530134Z",
     "iopub.status.busy": "2020-10-09T13:41:55.524993Z",
     "iopub.status.idle": "2020-10-09T13:41:59.116717Z",
     "shell.execute_reply": "2020-10-09T13:41:59.116061Z"
    },
    "papermill": {
     "duration": 3.739996,
     "end_time": "2020-10-09T13:41:59.116857",
     "exception": false,
     "start_time": "2020-10-09T13:41:55.376861",
     "status": "completed"
    },
    "tags": []
   },
   "outputs": [],
   "source": [
    "tf1 = TfidfVectorizer(min_df=3, token_pattern=r'\\w{3,}', ngram_range=(1,3))\n",
    "tf2 = TfidfVectorizer(min_df=2, token_pattern=r'\\w{3,}')\n",
    "\n",
    "X_train_merged = tf1.fit_transform(X_train_merged)\n",
    "X_train_loc = tf2.fit_transform(X_train_loc)\n",
    "\n",
    "X_test_merged = tf1.transform(X_test_merged)\n",
    "X_test_loc = tf2.transform(X_test_loc)"
   ]
  },
  {
   "cell_type": "code",
   "execution_count": 55,
   "metadata": {
    "execution": {
     "iopub.execute_input": "2020-10-09T13:41:59.348213Z",
     "iopub.status.busy": "2020-10-09T13:41:59.346943Z",
     "iopub.status.idle": "2020-10-09T13:41:59.358725Z",
     "shell.execute_reply": "2020-10-09T13:41:59.357896Z"
    },
    "papermill": {
     "duration": 0.132714,
     "end_time": "2020-10-09T13:41:59.358851",
     "exception": false,
     "start_time": "2020-10-09T13:41:59.226137",
     "status": "completed"
    },
    "tags": []
   },
   "outputs": [],
   "source": [
    "from scipy import sparse\n",
    "from sklearn.preprocessing import StandardScaler\n",
    "\n",
    "sc1 = StandardScaler()\n",
    "X_train_MinExp = sc1.fit_transform(np.array(df_train['min_exp']).reshape(-1,1))\n",
    "X_test_MinExp = sc1.transform(np.array(df_test['min_exp']).reshape(-1,1))\n",
    "X_train_MinExp = sparse.csr_matrix(X_train_MinExp)\n",
    "X_test_MinExp = sparse.csr_matrix(X_test_MinExp)\n",
    "\n",
    "sc2 = StandardScaler()\n",
    "X_train_MaxExp = sc2.fit_transform(np.array(df_train['max_exp']).reshape(-1,1))\n",
    "X_test_MaxExp = sc2.transform(np.array(df_test['max_exp']).reshape(-1,1))\n",
    "X_train_MaxExp = sparse.csr_matrix(X_train_MaxExp)\n",
    "X_test_MaxExp = sparse.csr_matrix(X_test_MaxExp)"
   ]
  },
  {
   "cell_type": "code",
   "execution_count": 56,
   "metadata": {
    "execution": {
     "iopub.execute_input": "2020-10-09T13:41:59.598603Z",
     "iopub.status.busy": "2020-10-09T13:41:59.597422Z",
     "iopub.status.idle": "2020-10-09T13:41:59.642224Z",
     "shell.execute_reply": "2020-10-09T13:41:59.641280Z"
    },
    "papermill": {
     "duration": 0.176258,
     "end_time": "2020-10-09T13:41:59.642358",
     "exception": false,
     "start_time": "2020-10-09T13:41:59.466100",
     "status": "completed"
    },
    "tags": []
   },
   "outputs": [],
   "source": [
    "merged_train = hstack((X_train_merged, X_train_loc, X_train_MinExp, X_train_MaxExp))\n",
    "merged_test  = hstack((X_test_merged, X_test_loc, X_test_MinExp, X_test_MaxExp))"
   ]
  },
  {
   "cell_type": "code",
   "execution_count": 57,
   "metadata": {
    "execution": {
     "iopub.execute_input": "2020-10-09T13:41:59.888200Z",
     "iopub.status.busy": "2020-10-09T13:41:59.886807Z",
     "iopub.status.idle": "2020-10-09T13:42:07.319597Z",
     "shell.execute_reply": "2020-10-09T13:42:07.320267Z"
    },
    "papermill": {
     "duration": 7.56266,
     "end_time": "2020-10-09T13:42:07.320462",
     "exception": false,
     "start_time": "2020-10-09T13:41:59.757802",
     "status": "completed"
    },
    "tags": []
   },
   "outputs": [
    {
     "name": "stderr",
     "output_type": "stream",
     "text": [
      "/opt/conda/lib/python3.7/site-packages/lightgbm/engine.py:148: UserWarning: Found `num_iterations` in params. Will use it instead of argument\n",
      "  warnings.warn(\"Found `{}` in params. Will use it instead of argument\".format(alias))\n",
      "/opt/conda/lib/python3.7/site-packages/lightgbm/basic.py:546: UserWarning: Converting data to scipy sparse matrix.\n",
      "  warnings.warn('Converting data to scipy sparse matrix.')\n"
     ]
    }
   ],
   "source": [
    "import lightgbm as lgb\n",
    "train_data = lgb.Dataset(merged_train, label=y_train)\n",
    "\n",
    "param = {'objective': 'multiclass',\n",
    "         'num_iterations': 80,\n",
    "         'learning_rate': 0.04, \n",
    "         'num_leaves': 23,\n",
    "         'max_depth': 7, \n",
    "         'min_data_in_leaf': 28, \n",
    "         'max_bin': 10, \n",
    "         'min_data_in_bin': 3,   \n",
    "         'num_class': 6,\n",
    "         'metric': 'multi_logloss'\n",
    "         }\n",
    "\n",
    "lgbm = lgb.train(params=param, \n",
    "                 train_set=train_data)\n",
    "\n",
    "predictions = lgbm.predict(merged_test)\n",
    "\n",
    "y_pred_class = []\n",
    "for x in predictions:\n",
    "    y_pred_class.append(np.argmax(x))\n",
    "\n",
    "y_pred_class = le.inverse_transform(y_pred_class)"
   ]
  },
  {
   "cell_type": "code",
   "execution_count": 58,
   "metadata": {
    "execution": {
     "iopub.execute_input": "2020-10-09T13:42:07.588554Z",
     "iopub.status.busy": "2020-10-09T13:42:07.587380Z",
     "iopub.status.idle": "2020-10-09T13:42:07.591033Z",
     "shell.execute_reply": "2020-10-09T13:42:07.590413Z"
    },
    "papermill": {
     "duration": 0.137148,
     "end_time": "2020-10-09T13:42:07.591169",
     "exception": false,
     "start_time": "2020-10-09T13:42:07.454021",
     "status": "completed"
    },
    "tags": []
   },
   "outputs": [],
   "source": [
    "df_sub = pd.DataFrame(data=y_pred_class, columns=['salary'])\n"
   ]
  },
  {
   "cell_type": "code",
   "execution_count": 59,
   "metadata": {
    "execution": {
     "iopub.execute_input": "2020-10-09T13:42:07.821806Z",
     "iopub.status.busy": "2020-10-09T13:42:07.820932Z",
     "iopub.status.idle": "2020-10-09T13:42:07.825469Z",
     "shell.execute_reply": "2020-10-09T13:42:07.826060Z"
    },
    "papermill": {
     "duration": 0.126284,
     "end_time": "2020-10-09T13:42:07.826232",
     "exception": false,
     "start_time": "2020-10-09T13:42:07.699948",
     "status": "completed"
    },
    "tags": []
   },
   "outputs": [
    {
     "data": {
      "text/html": [
       "<div>\n",
       "<style scoped>\n",
       "    .dataframe tbody tr th:only-of-type {\n",
       "        vertical-align: middle;\n",
       "    }\n",
       "\n",
       "    .dataframe tbody tr th {\n",
       "        vertical-align: top;\n",
       "    }\n",
       "\n",
       "    .dataframe thead th {\n",
       "        text-align: right;\n",
       "    }\n",
       "</style>\n",
       "<table border=\"1\" class=\"dataframe\">\n",
       "  <thead>\n",
       "    <tr style=\"text-align: right;\">\n",
       "      <th></th>\n",
       "      <th>salary</th>\n",
       "    </tr>\n",
       "  </thead>\n",
       "  <tbody>\n",
       "    <tr>\n",
       "      <th>0</th>\n",
       "      <td>10to15</td>\n",
       "    </tr>\n",
       "    <tr>\n",
       "      <th>1</th>\n",
       "      <td>0to3</td>\n",
       "    </tr>\n",
       "    <tr>\n",
       "      <th>2</th>\n",
       "      <td>6to10</td>\n",
       "    </tr>\n",
       "    <tr>\n",
       "      <th>3</th>\n",
       "      <td>0to3</td>\n",
       "    </tr>\n",
       "    <tr>\n",
       "      <th>4</th>\n",
       "      <td>0to3</td>\n",
       "    </tr>\n",
       "    <tr>\n",
       "      <th>...</th>\n",
       "      <td>...</td>\n",
       "    </tr>\n",
       "    <tr>\n",
       "      <th>6596</th>\n",
       "      <td>10to15</td>\n",
       "    </tr>\n",
       "    <tr>\n",
       "      <th>6597</th>\n",
       "      <td>6to10</td>\n",
       "    </tr>\n",
       "    <tr>\n",
       "      <th>6598</th>\n",
       "      <td>15to25</td>\n",
       "    </tr>\n",
       "    <tr>\n",
       "      <th>6599</th>\n",
       "      <td>15to25</td>\n",
       "    </tr>\n",
       "    <tr>\n",
       "      <th>6600</th>\n",
       "      <td>10to15</td>\n",
       "    </tr>\n",
       "  </tbody>\n",
       "</table>\n",
       "<p>6601 rows × 1 columns</p>\n",
       "</div>"
      ],
      "text/plain": [
       "      salary\n",
       "0     10to15\n",
       "1       0to3\n",
       "2      6to10\n",
       "3       0to3\n",
       "4       0to3\n",
       "...      ...\n",
       "6596  10to15\n",
       "6597   6to10\n",
       "6598  15to25\n",
       "6599  15to25\n",
       "6600  10to15\n",
       "\n",
       "[6601 rows x 1 columns]"
      ]
     },
     "execution_count": 59,
     "metadata": {},
     "output_type": "execute_result"
    }
   ],
   "source": [
    "df_sub"
   ]
  },
  {
   "cell_type": "code",
   "execution_count": 60,
   "metadata": {
    "execution": {
     "iopub.execute_input": "2020-10-09T13:42:08.064242Z",
     "iopub.status.busy": "2020-10-09T13:42:08.063336Z",
     "iopub.status.idle": "2020-10-09T13:42:08.423025Z",
     "shell.execute_reply": "2020-10-09T13:42:08.422134Z"
    },
    "papermill": {
     "duration": 0.485639,
     "end_time": "2020-10-09T13:42:08.423165",
     "exception": false,
     "start_time": "2020-10-09T13:42:07.937526",
     "status": "completed"
    },
    "tags": []
   },
   "outputs": [],
   "source": [
    "df_sub.to_csv(\"sub.csv\",index = False)"
   ]
  },
  {
   "cell_type": "code",
   "execution_count": 61,
   "metadata": {
    "execution": {
     "iopub.execute_input": "2020-10-09T13:42:08.673206Z",
     "iopub.status.busy": "2020-10-09T13:42:08.672439Z",
     "iopub.status.idle": "2020-10-09T13:42:08.676124Z",
     "shell.execute_reply": "2020-10-09T13:42:08.675518Z"
    },
    "papermill": {
     "duration": 0.136897,
     "end_time": "2020-10-09T13:42:08.676265",
     "exception": false,
     "start_time": "2020-10-09T13:42:08.539368",
     "status": "completed"
    },
    "tags": []
   },
   "outputs": [],
   "source": [
    "def min_sal(sal):\n",
    "    val = str(sal).split(\"to\")\n",
    "    return val[0]\n",
    "def max_sal(sal):\n",
    "    val = str(sal).split(\"to\")\n",
    "    return val[1]\n",
    "\n",
    "minsal = df_sub[\"salary\"].apply(lambda x: min_sal(x))\n",
    "max_sal = df_sub[\"salary\"].apply(lambda x: max_sal(x))\n"
   ]
  },
  {
   "cell_type": "code",
   "execution_count": 62,
   "metadata": {
    "execution": {
     "iopub.execute_input": "2020-10-09T13:42:08.910387Z",
     "iopub.status.busy": "2020-10-09T13:42:08.909610Z",
     "iopub.status.idle": "2020-10-09T13:42:08.912952Z",
     "shell.execute_reply": "2020-10-09T13:42:08.912199Z"
    },
    "papermill": {
     "duration": 0.125807,
     "end_time": "2020-10-09T13:42:08.913105",
     "exception": false,
     "start_time": "2020-10-09T13:42:08.787298",
     "status": "completed"
    },
    "tags": []
   },
   "outputs": [],
   "source": [
    "X = pd.DataFrame({\"min_sal\":minsal,\n",
    "                  \"max_sal\":max_sal})"
   ]
  },
  {
   "cell_type": "code",
   "execution_count": 63,
   "metadata": {
    "execution": {
     "iopub.execute_input": "2020-10-09T13:42:09.144663Z",
     "iopub.status.busy": "2020-10-09T13:42:09.143358Z",
     "iopub.status.idle": "2020-10-09T13:42:09.463910Z",
     "shell.execute_reply": "2020-10-09T13:42:09.463101Z"
    },
    "papermill": {
     "duration": 0.439586,
     "end_time": "2020-10-09T13:42:09.464066",
     "exception": false,
     "start_time": "2020-10-09T13:42:09.024480",
     "status": "completed"
    },
    "tags": []
   },
   "outputs": [
    {
     "data": {
      "text/plain": [
       "<matplotlib.axes._subplots.AxesSubplot at 0x7fc2e6f0f810>"
      ]
     },
     "execution_count": 63,
     "metadata": {},
     "output_type": "execute_result"
    },
    {
     "data": {
      "image/png": "[encoded data removed]",
      "text/plain": [
       "<Figure size 1008x576 with 1 Axes>"
      ]
     },
     "metadata": {
      "needs_background": "light"
     },
     "output_type": "display_data"
    }
   ],
   "source": [
    "fig,ax = plt.subplots(1,1 ,figsize = (14,8))\n",
    "sns.distplot(minsal)\n",
    "sns.distplot(max_sal)"
   ]
  },
  {
   "cell_type": "code",
   "execution_count": 64,
   "metadata": {
    "execution": {
     "iopub.execute_input": "2020-10-09T13:42:09.710077Z",
     "iopub.status.busy": "2020-10-09T13:42:09.709269Z",
     "iopub.status.idle": "2020-10-09T13:42:09.739629Z",
     "shell.execute_reply": "2020-10-09T13:42:09.738738Z"
    },
    "papermill": {
     "duration": 0.149863,
     "end_time": "2020-10-09T13:42:09.739767",
     "exception": false,
     "start_time": "2020-10-09T13:42:09.589904",
     "status": "completed"
    },
    "tags": []
   },
   "outputs": [],
   "source": [
    "test1 = pd.read_csv(\"/kaggle/input/data-scientist-salary/test.csv\")"
   ]
  },
  {
   "cell_type": "code",
   "execution_count": 65,
   "metadata": {
    "execution": {
     "iopub.execute_input": "2020-10-09T13:42:10.001850Z",
     "iopub.status.busy": "2020-10-09T13:42:10.000728Z",
     "iopub.status.idle": "2020-10-09T13:42:10.004819Z",
     "shell.execute_reply": "2020-10-09T13:42:10.004014Z"
    },
    "papermill": {
     "duration": 0.138439,
     "end_time": "2020-10-09T13:42:10.004962",
     "exception": false,
     "start_time": "2020-10-09T13:42:09.866523",
     "status": "completed"
    },
    "tags": []
   },
   "outputs": [],
   "source": [
    "final = pd.concat([test1,X],axis=1)"
   ]
  },
  {
   "cell_type": "code",
   "execution_count": 66,
   "metadata": {
    "execution": {
     "iopub.execute_input": "2020-10-09T13:42:10.253898Z",
     "iopub.status.busy": "2020-10-09T13:42:10.252756Z",
     "iopub.status.idle": "2020-10-09T13:42:10.258122Z",
     "shell.execute_reply": "2020-10-09T13:42:10.257332Z"
    },
    "papermill": {
     "duration": 0.137351,
     "end_time": "2020-10-09T13:42:10.258260",
     "exception": false,
     "start_time": "2020-10-09T13:42:10.120909",
     "status": "completed"
    },
    "tags": []
   },
   "outputs": [
    {
     "data": {
      "text/html": [
       "<div>\n",
       "<style scoped>\n",
       "    .dataframe tbody tr th:only-of-type {\n",
       "        vertical-align: middle;\n",
       "    }\n",
       "\n",
       "    .dataframe tbody tr th {\n",
       "        vertical-align: top;\n",
       "    }\n",
       "\n",
       "    .dataframe thead th {\n",
       "        text-align: right;\n",
       "    }\n",
       "</style>\n",
       "<table border=\"1\" class=\"dataframe\">\n",
       "  <thead>\n",
       "    <tr style=\"text-align: right;\">\n",
       "      <th></th>\n",
       "      <th>experience</th>\n",
       "      <th>job_description</th>\n",
       "      <th>job_desig</th>\n",
       "      <th>job_type</th>\n",
       "      <th>key_skills</th>\n",
       "      <th>location</th>\n",
       "      <th>company_name_encoded</th>\n",
       "      <th>min_sal</th>\n",
       "      <th>max_sal</th>\n",
       "    </tr>\n",
       "  </thead>\n",
       "  <tbody>\n",
       "    <tr>\n",
       "      <th>0</th>\n",
       "      <td>7-12 yrs</td>\n",
       "      <td>Professional experience in Java/J2EE based ser...</td>\n",
       "      <td>IT Technology Senior Consultant/java/ J2ee/ Se...</td>\n",
       "      <td>NaN</td>\n",
       "      <td>Java, J2Ee, Tomcat, JBoss, Weblogic, Oracle, E...</td>\n",
       "      <td>Bengaluru</td>\n",
       "      <td>2066</td>\n",
       "      <td>10</td>\n",
       "      <td>15</td>\n",
       "    </tr>\n",
       "    <tr>\n",
       "      <th>1</th>\n",
       "      <td>0-5 yrs</td>\n",
       "      <td>We are looking for 20+ Fresher/Experienced Can...</td>\n",
       "      <td>Medical Billing Process | International KPO | ...</td>\n",
       "      <td>NaN</td>\n",
       "      <td>Medical Billing, Insurance Processing</td>\n",
       "      <td>Ahmedabad(Sola)</td>\n",
       "      <td>2629</td>\n",
       "      <td>0</td>\n",
       "      <td>3</td>\n",
       "    </tr>\n",
       "    <tr>\n",
       "      <th>2</th>\n",
       "      <td>3-6 yrs</td>\n",
       "      <td>Should understand overall integration framewor...</td>\n",
       "      <td>Oracle Sales Cloud Functional Consultant</td>\n",
       "      <td>NaN</td>\n",
       "      <td>Oracle Sales, Functional Consultancy, Troubles...</td>\n",
       "      <td>Bengaluru</td>\n",
       "      <td>2448</td>\n",
       "      <td>6</td>\n",
       "      <td>10</td>\n",
       "    </tr>\n",
       "    <tr>\n",
       "      <th>3</th>\n",
       "      <td>0-3 yrs</td>\n",
       "      <td>NaN</td>\n",
       "      <td>Looking For Freshers WHO WANT To Work WITH US</td>\n",
       "      <td>NaN</td>\n",
       "      <td>offline, online, internet, part time, home bas...</td>\n",
       "      <td>Delhi NCR, Chennai, Hyderabad, Gurgaon, Luckno...</td>\n",
       "      <td>2711</td>\n",
       "      <td>0</td>\n",
       "      <td>3</td>\n",
       "    </tr>\n",
       "    <tr>\n",
       "      <th>4</th>\n",
       "      <td>0-5 yrs</td>\n",
       "      <td>NaN</td>\n",
       "      <td>Process Associate / Sr Process Associate / Tec...</td>\n",
       "      <td>NaN</td>\n",
       "      <td>voice support, analytical skills, Process asso...</td>\n",
       "      <td>Hyderabad</td>\n",
       "      <td>40</td>\n",
       "      <td>0</td>\n",
       "      <td>3</td>\n",
       "    </tr>\n",
       "  </tbody>\n",
       "</table>\n",
       "</div>"
      ],
      "text/plain": [
       "  experience                                    job_description  \\\n",
       "0   7-12 yrs  Professional experience in Java/J2EE based ser...   \n",
       "1    0-5 yrs  We are looking for 20+ Fresher/Experienced Can...   \n",
       "2    3-6 yrs  Should understand overall integration framewor...   \n",
       "3    0-3 yrs                                                NaN   \n",
       "4    0-5 yrs                                                NaN   \n",
       "\n",
       "                                           job_desig job_type  \\\n",
       "0  IT Technology Senior Consultant/java/ J2ee/ Se...      NaN   \n",
       "1  Medical Billing Process | International KPO | ...      NaN   \n",
       "2           Oracle Sales Cloud Functional Consultant      NaN   \n",
       "3      Looking For Freshers WHO WANT To Work WITH US      NaN   \n",
       "4  Process Associate / Sr Process Associate / Tec...      NaN   \n",
       "\n",
       "                                          key_skills  \\\n",
       "0  Java, J2Ee, Tomcat, JBoss, Weblogic, Oracle, E...   \n",
       "1              Medical Billing, Insurance Processing   \n",
       "2  Oracle Sales, Functional Consultancy, Troubles...   \n",
       "3  offline, online, internet, part time, home bas...   \n",
       "4  voice support, analytical skills, Process asso...   \n",
       "\n",
       "                                            location  company_name_encoded  \\\n",
       "0                                          Bengaluru                  2066   \n",
       "1                                    Ahmedabad(Sola)                  2629   \n",
       "2                                          Bengaluru                  2448   \n",
       "3  Delhi NCR, Chennai, Hyderabad, Gurgaon, Luckno...                  2711   \n",
       "4                                          Hyderabad                    40   \n",
       "\n",
       "  min_sal max_sal  \n",
       "0      10      15  \n",
       "1       0       3  \n",
       "2       6      10  \n",
       "3       0       3  \n",
       "4       0       3  "
      ]
     },
     "execution_count": 66,
     "metadata": {},
     "output_type": "execute_result"
    }
   ],
   "source": [
    "final.head()"
   ]
  },
  {
   "cell_type": "code",
   "execution_count": 67,
   "metadata": {
    "execution": {
     "iopub.execute_input": "2020-10-09T13:42:10.657247Z",
     "iopub.status.busy": "2020-10-09T13:42:10.652625Z",
     "iopub.status.idle": "2020-10-09T13:42:10.687570Z",
     "shell.execute_reply": "2020-10-09T13:42:10.686731Z"
    },
    "papermill": {
     "duration": 0.313315,
     "end_time": "2020-10-09T13:42:10.687701",
     "exception": false,
     "start_time": "2020-10-09T13:42:10.374386",
     "status": "completed"
    },
    "tags": []
   },
   "outputs": [],
   "source": [
    "def min_exp(val):\n",
    "    exp = re.sub('-',' ',val)\n",
    "    exp = exp.split(\" \")\n",
    "    exp = int(exp[0])\n",
    "    return exp\n",
    "    \n",
    "def max_exp(val):\n",
    "    exp = re.sub('-',' ',val)\n",
    "    exp = exp.split(' ')\n",
    "    exp = int(exp[1])\n",
    "    return exp\n",
    "    \n",
    "final['min_exp'] = final['experience'].apply(lambda x : min_exp(x))\n",
    "final['max_exp'] = final['experience'].apply(lambda x : max_exp(x))\n",
    "\n",
    "# df_test['min_exp'] = df_test['experience'].apply(lambda x : min_exp(x))\n",
    "# df_test['max_exp'] = df_test['experience'].apply(lambda x : max_exp(x))\n",
    "        "
   ]
  },
  {
   "cell_type": "code",
   "execution_count": 68,
   "metadata": {
    "execution": {
     "iopub.execute_input": "2020-10-09T13:42:10.946755Z",
     "iopub.status.busy": "2020-10-09T13:42:10.945688Z",
     "iopub.status.idle": "2020-10-09T13:42:10.950842Z",
     "shell.execute_reply": "2020-10-09T13:42:10.950088Z"
    },
    "papermill": {
     "duration": 0.147774,
     "end_time": "2020-10-09T13:42:10.950988",
     "exception": false,
     "start_time": "2020-10-09T13:42:10.803214",
     "status": "completed"
    },
    "tags": []
   },
   "outputs": [
    {
     "data": {
      "text/html": [
       "<div>\n",
       "<style scoped>\n",
       "    .dataframe tbody tr th:only-of-type {\n",
       "        vertical-align: middle;\n",
       "    }\n",
       "\n",
       "    .dataframe tbody tr th {\n",
       "        vertical-align: top;\n",
       "    }\n",
       "\n",
       "    .dataframe thead th {\n",
       "        text-align: right;\n",
       "    }\n",
       "</style>\n",
       "<table border=\"1\" class=\"dataframe\">\n",
       "  <thead>\n",
       "    <tr style=\"text-align: right;\">\n",
       "      <th></th>\n",
       "      <th>experience</th>\n",
       "      <th>job_description</th>\n",
       "      <th>job_desig</th>\n",
       "      <th>job_type</th>\n",
       "      <th>key_skills</th>\n",
       "      <th>location</th>\n",
       "      <th>company_name_encoded</th>\n",
       "      <th>min_sal</th>\n",
       "      <th>max_sal</th>\n",
       "      <th>min_exp</th>\n",
       "      <th>max_exp</th>\n",
       "    </tr>\n",
       "  </thead>\n",
       "  <tbody>\n",
       "    <tr>\n",
       "      <th>0</th>\n",
       "      <td>7-12 yrs</td>\n",
       "      <td>Professional experience in Java/J2EE based ser...</td>\n",
       "      <td>IT Technology Senior Consultant/java/ J2ee/ Se...</td>\n",
       "      <td>NaN</td>\n",
       "      <td>Java, J2Ee, Tomcat, JBoss, Weblogic, Oracle, E...</td>\n",
       "      <td>Bengaluru</td>\n",
       "      <td>2066</td>\n",
       "      <td>10</td>\n",
       "      <td>15</td>\n",
       "      <td>7</td>\n",
       "      <td>12</td>\n",
       "    </tr>\n",
       "    <tr>\n",
       "      <th>1</th>\n",
       "      <td>0-5 yrs</td>\n",
       "      <td>We are looking for 20+ Fresher/Experienced Can...</td>\n",
       "      <td>Medical Billing Process | International KPO | ...</td>\n",
       "      <td>NaN</td>\n",
       "      <td>Medical Billing, Insurance Processing</td>\n",
       "      <td>Ahmedabad(Sola)</td>\n",
       "      <td>2629</td>\n",
       "      <td>0</td>\n",
       "      <td>3</td>\n",
       "      <td>0</td>\n",
       "      <td>5</td>\n",
       "    </tr>\n",
       "    <tr>\n",
       "      <th>2</th>\n",
       "      <td>3-6 yrs</td>\n",
       "      <td>Should understand overall integration framewor...</td>\n",
       "      <td>Oracle Sales Cloud Functional Consultant</td>\n",
       "      <td>NaN</td>\n",
       "      <td>Oracle Sales, Functional Consultancy, Troubles...</td>\n",
       "      <td>Bengaluru</td>\n",
       "      <td>2448</td>\n",
       "      <td>6</td>\n",
       "      <td>10</td>\n",
       "      <td>3</td>\n",
       "      <td>6</td>\n",
       "    </tr>\n",
       "    <tr>\n",
       "      <th>3</th>\n",
       "      <td>0-3 yrs</td>\n",
       "      <td>NaN</td>\n",
       "      <td>Looking For Freshers WHO WANT To Work WITH US</td>\n",
       "      <td>NaN</td>\n",
       "      <td>offline, online, internet, part time, home bas...</td>\n",
       "      <td>Delhi NCR, Chennai, Hyderabad, Gurgaon, Luckno...</td>\n",
       "      <td>2711</td>\n",
       "      <td>0</td>\n",
       "      <td>3</td>\n",
       "      <td>0</td>\n",
       "      <td>3</td>\n",
       "    </tr>\n",
       "    <tr>\n",
       "      <th>4</th>\n",
       "      <td>0-5 yrs</td>\n",
       "      <td>NaN</td>\n",
       "      <td>Process Associate / Sr Process Associate / Tec...</td>\n",
       "      <td>NaN</td>\n",
       "      <td>voice support, analytical skills, Process asso...</td>\n",
       "      <td>Hyderabad</td>\n",
       "      <td>40</td>\n",
       "      <td>0</td>\n",
       "      <td>3</td>\n",
       "      <td>0</td>\n",
       "      <td>5</td>\n",
       "    </tr>\n",
       "  </tbody>\n",
       "</table>\n",
       "</div>"
      ],
      "text/plain": [
       "  experience                                    job_description  \\\n",
       "0   7-12 yrs  Professional experience in Java/J2EE based ser...   \n",
       "1    0-5 yrs  We are looking for 20+ Fresher/Experienced Can...   \n",
       "2    3-6 yrs  Should understand overall integration framewor...   \n",
       "3    0-3 yrs                                                NaN   \n",
       "4    0-5 yrs                                                NaN   \n",
       "\n",
       "                                           job_desig job_type  \\\n",
       "0  IT Technology Senior Consultant/java/ J2ee/ Se...      NaN   \n",
       "1  Medical Billing Process | International KPO | ...      NaN   \n",
       "2           Oracle Sales Cloud Functional Consultant      NaN   \n",
       "3      Looking For Freshers WHO WANT To Work WITH US      NaN   \n",
       "4  Process Associate / Sr Process Associate / Tec...      NaN   \n",
       "\n",
       "                                          key_skills  \\\n",
       "0  Java, J2Ee, Tomcat, JBoss, Weblogic, Oracle, E...   \n",
       "1              Medical Billing, Insurance Processing   \n",
       "2  Oracle Sales, Functional Consultancy, Troubles...   \n",
       "3  offline, online, internet, part time, home bas...   \n",
       "4  voice support, analytical skills, Process asso...   \n",
       "\n",
       "                                            location  company_name_encoded  \\\n",
       "0                                          Bengaluru                  2066   \n",
       "1                                    Ahmedabad(Sola)                  2629   \n",
       "2                                          Bengaluru                  2448   \n",
       "3  Delhi NCR, Chennai, Hyderabad, Gurgaon, Luckno...                  2711   \n",
       "4                                          Hyderabad                    40   \n",
       "\n",
       "  min_sal max_sal  min_exp  max_exp  \n",
       "0      10      15        7       12  \n",
       "1       0       3        0        5  \n",
       "2       6      10        3        6  \n",
       "3       0       3        0        3  \n",
       "4       0       3        0        5  "
      ]
     },
     "execution_count": 68,
     "metadata": {},
     "output_type": "execute_result"
    }
   ],
   "source": [
    "final.head()"
   ]
  },
  {
   "cell_type": "code",
   "execution_count": 69,
   "metadata": {
    "execution": {
     "iopub.execute_input": "2020-10-09T13:42:11.202890Z",
     "iopub.status.busy": "2020-10-09T13:42:11.195435Z",
     "iopub.status.idle": "2020-10-09T13:42:15.519454Z",
     "shell.execute_reply": "2020-10-09T13:42:15.520208Z"
    },
    "papermill": {
     "duration": 4.449578,
     "end_time": "2020-10-09T13:42:15.520366",
     "exception": false,
     "start_time": "2020-10-09T13:42:11.070788",
     "status": "completed"
    },
    "tags": []
   },
   "outputs": [
    {
     "data": {
      "text/plain": [
       "<seaborn.axisgrid.PairGrid at 0x7fc2e6147290>"
      ]
     },
     "execution_count": 69,
     "metadata": {},
     "output_type": "execute_result"
    },
    {
     "data": {
      "image/png": "[encoded data removed]",
      "text/plain": [
       "<Figure size 720x720 with 20 Axes>"
      ]
     },
     "metadata": {
      "needs_background": "light"
     },
     "output_type": "display_data"
    }
   ],
   "source": [
    "labels = [\"min_exp\",\"max_exp\",\"min_sal\",\"max_sal\"]\n",
    "sns.pairplot(final[labels])"
   ]
  },
  {
   "cell_type": "code",
   "execution_count": 70,
   "metadata": {
    "execution": {
     "iopub.execute_input": "2020-10-09T13:42:15.770257Z",
     "iopub.status.busy": "2020-10-09T13:42:15.769475Z",
     "iopub.status.idle": "2020-10-09T13:42:15.778446Z",
     "shell.execute_reply": "2020-10-09T13:42:15.777781Z"
    },
    "papermill": {
     "duration": 0.139298,
     "end_time": "2020-10-09T13:42:15.778572",
     "exception": false,
     "start_time": "2020-10-09T13:42:15.639274",
     "status": "completed"
    },
    "tags": []
   },
   "outputs": [],
   "source": [
    "# def min_exp(val):\n",
    "#     exp = re.sub('-',' ',val)\n",
    "#     exp = exp.split(\" \")\n",
    "#     exp = int(exp[0])\n",
    "#     return exp\n",
    "    \n",
    "# def max_exp(val):\n",
    "#     exp = re.sub('-',' ',val)\n",
    "#     exp = exp.split(' ')\n",
    "#     exp = int(exp[1])\n",
    "#     return exp\n",
    "col = final.loc[: , \"min_sal\":\"max_sal\"]\n",
    "final['salary_mean'] = col.mean(axis=1)\n",
    "\n",
    "cols = final.loc[: , \"min_exp\":\"max_exp\"]\n",
    "final['exp_mean'] = cols.mean(axis=1)\n"
   ]
  },
  {
   "cell_type": "code",
   "execution_count": 71,
   "metadata": {
    "execution": {
     "iopub.execute_input": "2020-10-09T13:42:16.038634Z",
     "iopub.status.busy": "2020-10-09T13:42:16.037770Z",
     "iopub.status.idle": "2020-10-09T13:42:16.043018Z",
     "shell.execute_reply": "2020-10-09T13:42:16.042202Z"
    },
    "papermill": {
     "duration": 0.145482,
     "end_time": "2020-10-09T13:42:16.043154",
     "exception": false,
     "start_time": "2020-10-09T13:42:15.897672",
     "status": "completed"
    },
    "tags": []
   },
   "outputs": [
    {
     "data": {
      "text/html": [
       "<div>\n",
       "<style scoped>\n",
       "    .dataframe tbody tr th:only-of-type {\n",
       "        vertical-align: middle;\n",
       "    }\n",
       "\n",
       "    .dataframe tbody tr th {\n",
       "        vertical-align: top;\n",
       "    }\n",
       "\n",
       "    .dataframe thead th {\n",
       "        text-align: right;\n",
       "    }\n",
       "</style>\n",
       "<table border=\"1\" class=\"dataframe\">\n",
       "  <thead>\n",
       "    <tr style=\"text-align: right;\">\n",
       "      <th></th>\n",
       "      <th>experience</th>\n",
       "      <th>job_description</th>\n",
       "      <th>job_desig</th>\n",
       "      <th>job_type</th>\n",
       "      <th>key_skills</th>\n",
       "      <th>location</th>\n",
       "      <th>company_name_encoded</th>\n",
       "      <th>min_sal</th>\n",
       "      <th>max_sal</th>\n",
       "      <th>min_exp</th>\n",
       "      <th>max_exp</th>\n",
       "      <th>salary_mean</th>\n",
       "      <th>exp_mean</th>\n",
       "    </tr>\n",
       "  </thead>\n",
       "  <tbody>\n",
       "    <tr>\n",
       "      <th>0</th>\n",
       "      <td>7-12 yrs</td>\n",
       "      <td>Professional experience in Java/J2EE based ser...</td>\n",
       "      <td>IT Technology Senior Consultant/java/ J2ee/ Se...</td>\n",
       "      <td>NaN</td>\n",
       "      <td>Java, J2Ee, Tomcat, JBoss, Weblogic, Oracle, E...</td>\n",
       "      <td>Bengaluru</td>\n",
       "      <td>2066</td>\n",
       "      <td>10</td>\n",
       "      <td>15</td>\n",
       "      <td>7</td>\n",
       "      <td>12</td>\n",
       "      <td>507.5</td>\n",
       "      <td>9.5</td>\n",
       "    </tr>\n",
       "    <tr>\n",
       "      <th>1</th>\n",
       "      <td>0-5 yrs</td>\n",
       "      <td>We are looking for 20+ Fresher/Experienced Can...</td>\n",
       "      <td>Medical Billing Process | International KPO | ...</td>\n",
       "      <td>NaN</td>\n",
       "      <td>Medical Billing, Insurance Processing</td>\n",
       "      <td>Ahmedabad(Sola)</td>\n",
       "      <td>2629</td>\n",
       "      <td>0</td>\n",
       "      <td>3</td>\n",
       "      <td>0</td>\n",
       "      <td>5</td>\n",
       "      <td>1.5</td>\n",
       "      <td>2.5</td>\n",
       "    </tr>\n",
       "    <tr>\n",
       "      <th>2</th>\n",
       "      <td>3-6 yrs</td>\n",
       "      <td>Should understand overall integration framewor...</td>\n",
       "      <td>Oracle Sales Cloud Functional Consultant</td>\n",
       "      <td>NaN</td>\n",
       "      <td>Oracle Sales, Functional Consultancy, Troubles...</td>\n",
       "      <td>Bengaluru</td>\n",
       "      <td>2448</td>\n",
       "      <td>6</td>\n",
       "      <td>10</td>\n",
       "      <td>3</td>\n",
       "      <td>6</td>\n",
       "      <td>305.0</td>\n",
       "      <td>4.5</td>\n",
       "    </tr>\n",
       "    <tr>\n",
       "      <th>3</th>\n",
       "      <td>0-3 yrs</td>\n",
       "      <td>NaN</td>\n",
       "      <td>Looking For Freshers WHO WANT To Work WITH US</td>\n",
       "      <td>NaN</td>\n",
       "      <td>offline, online, internet, part time, home bas...</td>\n",
       "      <td>Delhi NCR, Chennai, Hyderabad, Gurgaon, Luckno...</td>\n",
       "      <td>2711</td>\n",
       "      <td>0</td>\n",
       "      <td>3</td>\n",
       "      <td>0</td>\n",
       "      <td>3</td>\n",
       "      <td>1.5</td>\n",
       "      <td>1.5</td>\n",
       "    </tr>\n",
       "    <tr>\n",
       "      <th>4</th>\n",
       "      <td>0-5 yrs</td>\n",
       "      <td>NaN</td>\n",
       "      <td>Process Associate / Sr Process Associate / Tec...</td>\n",
       "      <td>NaN</td>\n",
       "      <td>voice support, analytical skills, Process asso...</td>\n",
       "      <td>Hyderabad</td>\n",
       "      <td>40</td>\n",
       "      <td>0</td>\n",
       "      <td>3</td>\n",
       "      <td>0</td>\n",
       "      <td>5</td>\n",
       "      <td>1.5</td>\n",
       "      <td>2.5</td>\n",
       "    </tr>\n",
       "  </tbody>\n",
       "</table>\n",
       "</div>"
      ],
      "text/plain": [
       "  experience                                    job_description  \\\n",
       "0   7-12 yrs  Professional experience in Java/J2EE based ser...   \n",
       "1    0-5 yrs  We are looking for 20+ Fresher/Experienced Can...   \n",
       "2    3-6 yrs  Should understand overall integration framewor...   \n",
       "3    0-3 yrs                                                NaN   \n",
       "4    0-5 yrs                                                NaN   \n",
       "\n",
       "                                           job_desig job_type  \\\n",
       "0  IT Technology Senior Consultant/java/ J2ee/ Se...      NaN   \n",
       "1  Medical Billing Process | International KPO | ...      NaN   \n",
       "2           Oracle Sales Cloud Functional Consultant      NaN   \n",
       "3      Looking For Freshers WHO WANT To Work WITH US      NaN   \n",
       "4  Process Associate / Sr Process Associate / Tec...      NaN   \n",
       "\n",
       "                                          key_skills  \\\n",
       "0  Java, J2Ee, Tomcat, JBoss, Weblogic, Oracle, E...   \n",
       "1              Medical Billing, Insurance Processing   \n",
       "2  Oracle Sales, Functional Consultancy, Troubles...   \n",
       "3  offline, online, internet, part time, home bas...   \n",
       "4  voice support, analytical skills, Process asso...   \n",
       "\n",
       "                                            location  company_name_encoded  \\\n",
       "0                                          Bengaluru                  2066   \n",
       "1                                    Ahmedabad(Sola)                  2629   \n",
       "2                                          Bengaluru                  2448   \n",
       "3  Delhi NCR, Chennai, Hyderabad, Gurgaon, Luckno...                  2711   \n",
       "4                                          Hyderabad                    40   \n",
       "\n",
       "  min_sal max_sal  min_exp  max_exp  salary_mean  exp_mean  \n",
       "0      10      15        7       12        507.5       9.5  \n",
       "1       0       3        0        5          1.5       2.5  \n",
       "2       6      10        3        6        305.0       4.5  \n",
       "3       0       3        0        3          1.5       1.5  \n",
       "4       0       3        0        5          1.5       2.5  "
      ]
     },
     "execution_count": 71,
     "metadata": {},
     "output_type": "execute_result"
    }
   ],
   "source": [
    "final.head()"
   ]
  },
  {
   "cell_type": "code",
   "execution_count": 72,
   "metadata": {
    "execution": {
     "iopub.execute_input": "2020-10-09T13:42:16.311879Z",
     "iopub.status.busy": "2020-10-09T13:42:16.305035Z",
     "iopub.status.idle": "2020-10-09T13:42:16.515182Z",
     "shell.execute_reply": "2020-10-09T13:42:16.514403Z"
    },
    "papermill": {
     "duration": 0.348506,
     "end_time": "2020-10-09T13:42:16.515307",
     "exception": false,
     "start_time": "2020-10-09T13:42:16.166801",
     "status": "completed"
    },
    "tags": []
   },
   "outputs": [
    {
     "data": {
      "text/plain": [
       "<matplotlib.axes._subplots.AxesSubplot at 0x7fc2f42107d0>"
      ]
     },
     "execution_count": 72,
     "metadata": {},
     "output_type": "execute_result"
    },
    {
     "data": {
      "image/png": "[encoded data removed]",
      "text/plain": [
       "<Figure size 432x288 with 1 Axes>"
      ]
     },
     "metadata": {
      "needs_background": "light"
     },
     "output_type": "display_data"
    }
   ],
   "source": [
    "sns.scatterplot(x = final[\"exp_mean\"],y = final[\"salary_mean\"])"
   ]
  },
  {
   "cell_type": "code",
   "execution_count": null,
   "metadata": {
    "papermill": {
     "duration": 0.121989,
     "end_time": "2020-10-09T13:42:16.760383",
     "exception": false,
     "start_time": "2020-10-09T13:42:16.638394",
     "status": "completed"
    },
    "tags": []
   },
   "outputs": [],
   "source": []
  }
 ],
 "metadata": {
  "kernelspec": {
   "display_name": "Python 3",
   "language": "python",
   "name": "python3"
  },
  "language_info": {
   "codemirror_mode": {
    "name": "ipython",
    "version": 3
   },
   "file_extension": ".py",
   "mimetype": "text/x-python",
   "name": "python",
   "nbconvert_exporter": "python",
   "pygments_lexer": "ipython3",
   "version": "3.7.6"
  },
  "papermill": {
   "duration": 57.210446,
   "end_time": "2020-10-09T13:42:16.990483",
   "environment_variables": {},
   "exception": null,
   "input_path": "__notebook__.ipynb",
   "output_path": "__notebook__.ipynb",
   "parameters": {},
   "start_time": "2020-10-09T13:41:19.780037",
   "version": "2.1.0"
  }
 },
 "nbformat": 4,
 "nbformat_minor": 4
}
